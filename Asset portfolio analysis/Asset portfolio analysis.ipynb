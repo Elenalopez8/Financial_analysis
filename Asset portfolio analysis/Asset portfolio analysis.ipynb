{
 "cells": [
  {
   "cell_type": "markdown",
   "metadata": {},
   "source": [
    "# Project: 2 and 3 assets portfolio analysis with real returns\n"
   ]
  },
  {
   "cell_type": "markdown",
   "metadata": {},
   "source": [
    "- Author: Elena Lopez\n",
    "- Date: May 28, 2020\n",
    "\n",
    "\n",
    "## Objective\n",
    "\n",
    "To conduct 2-asset portfolio analysis with real returns and 3-asset portfolio analysis with real returns to make final recommendations to investors with different risk tolerance. \n",
    "\n",
    "## Steps\n",
    "\n",
    "### Part 1: 2-asset portfolio analysis with real returns\n",
    "The analysis is conducted using annual real returns on investments in two assets: S&P 500 (including dividends) and US T. Bond.\n",
    "\n",
    "The following steps were undertaken:\n",
    "- Adjusting nominal returns to real returns\n",
    "- Conducting EDA --> Calculate statistics for raw real returns and statistics for excess returns\n",
    "- Assessing Asset Allocation\n",
    "- Calculating Minimum Variance Portfolio\n",
    "- Calculating Maximum Sharpe Ratio Portfolio\n",
    "\n",
    "### Part 2: 3-asset portfolio analysis with real returns\n",
    "\n",
    "Same steps were undertaken to conduct this analysis.\n",
    "Additionally, the efficient fronter was calculated by using brute force with scalability of using N assets. \n",
    "In order to identify optimal portfolios, two models were developed that apply brute force: \n",
    "- Model I: calculated the 66 different possible combinations with 10% increment for each asset.\n",
    "- Model II:  calculated 1000 different weight combinations to find the best portfolio with Minimum Variance and Maximum Sharpe Ratio.\n",
    "\n",
    "\n",
    "## Data set\n",
    "\n",
    "Data obtained from Aswath Damodoran. It can be downloaded in the following link: http://www.stern.nyu.edu/~adamodar/pc/datasets/histimpl.xls // sheet: Returns by year. \n",
    "The excel file was transformed into csv file (uploaded in the folder for direct use)."
   ]
  },
  {
   "cell_type": "markdown",
   "metadata": {},
   "source": [
    "# Import Packages"
   ]
  },
  {
   "cell_type": "code",
   "execution_count": 1,
   "metadata": {
    "ExecuteTime": {
     "end_time": "2020-08-26T03:26:49.567196Z",
     "start_time": "2020-08-26T03:26:46.720687Z"
    }
   },
   "outputs": [],
   "source": [
    "import pandas as pd\n",
    "import numpy as np\n",
    "import seaborn as sns\n",
    "import matplotlib.pyplot as plt\n",
    "import warnings\n",
    "\n",
    "warnings.filterwarnings('ignore')"
   ]
  },
  {
   "cell_type": "code",
   "execution_count": 2,
   "metadata": {
    "ExecuteTime": {
     "end_time": "2020-08-26T03:26:49.614997Z",
     "start_time": "2020-08-26T03:26:49.596258Z"
    }
   },
   "outputs": [
    {
     "data": {
      "text/plain": [
       "'/Users/elenalopez/Desktop/Projects/Python/Uploaded in Github/Financial Analysis/Asset portfolio analysis'"
      ]
     },
     "execution_count": 2,
     "metadata": {},
     "output_type": "execute_result"
    }
   ],
   "source": [
    "import os\n",
    "os.getcwd()"
   ]
  },
  {
   "cell_type": "markdown",
   "metadata": {},
   "source": [
    "# Create Directory"
   ]
  },
  {
   "cell_type": "code",
   "execution_count": 2,
   "metadata": {
    "ExecuteTime": {
     "end_time": "2020-05-11T20:32:59.316459Z",
     "start_time": "2020-05-11T20:32:59.311792Z"
    }
   },
   "outputs": [],
   "source": [
    "import os\n",
    "from os import path\n",
    "if not os.path.exists('fig'):\n",
    "    os.mkdir('fig')"
   ]
  },
  {
   "cell_type": "markdown",
   "metadata": {},
   "source": [
    "# Import Dataset"
   ]
  },
  {
   "cell_type": "code",
   "execution_count": 5,
   "metadata": {
    "ExecuteTime": {
     "end_time": "2020-08-26T03:28:23.436532Z",
     "start_time": "2020-08-26T03:28:23.330948Z"
    }
   },
   "outputs": [
    {
     "data": {
      "text/html": [
       "<div>\n",
       "<style scoped>\n",
       "    .dataframe tbody tr th:only-of-type {\n",
       "        vertical-align: middle;\n",
       "    }\n",
       "\n",
       "    .dataframe tbody tr th {\n",
       "        vertical-align: top;\n",
       "    }\n",
       "\n",
       "    .dataframe thead th {\n",
       "        text-align: right;\n",
       "    }\n",
       "</style>\n",
       "<table border=\"1\" class=\"dataframe\">\n",
       "  <thead>\n",
       "    <tr style=\"text-align: right;\">\n",
       "      <th></th>\n",
       "      <th>S&amp;P 500 (includes dividends)</th>\n",
       "      <th>3-month T.Bill</th>\n",
       "      <th>US T. Bond</th>\n",
       "    </tr>\n",
       "    <tr>\n",
       "      <th>Year</th>\n",
       "      <th></th>\n",
       "      <th></th>\n",
       "      <th></th>\n",
       "    </tr>\n",
       "  </thead>\n",
       "  <tbody>\n",
       "    <tr>\n",
       "      <th>1928</th>\n",
       "      <td>0.438112</td>\n",
       "      <td>0.0308</td>\n",
       "      <td>0.008355</td>\n",
       "    </tr>\n",
       "    <tr>\n",
       "      <th>1929</th>\n",
       "      <td>-0.082979</td>\n",
       "      <td>0.0316</td>\n",
       "      <td>0.042038</td>\n",
       "    </tr>\n",
       "    <tr>\n",
       "      <th>1930</th>\n",
       "      <td>-0.251236</td>\n",
       "      <td>0.0455</td>\n",
       "      <td>0.045409</td>\n",
       "    </tr>\n",
       "    <tr>\n",
       "      <th>1931</th>\n",
       "      <td>-0.438375</td>\n",
       "      <td>0.0231</td>\n",
       "      <td>-0.025589</td>\n",
       "    </tr>\n",
       "    <tr>\n",
       "      <th>1932</th>\n",
       "      <td>-0.086424</td>\n",
       "      <td>0.0107</td>\n",
       "      <td>0.087903</td>\n",
       "    </tr>\n",
       "  </tbody>\n",
       "</table>\n",
       "</div>"
      ],
      "text/plain": [
       "      S&P 500 (includes dividends)  3-month T.Bill  US T. Bond\n",
       "Year                                                          \n",
       "1928                      0.438112          0.0308    0.008355\n",
       "1929                     -0.082979          0.0316    0.042038\n",
       "1930                     -0.251236          0.0455    0.045409\n",
       "1931                     -0.438375          0.0231   -0.025589\n",
       "1932                     -0.086424          0.0107    0.087903"
      ]
     },
     "execution_count": 5,
     "metadata": {},
     "output_type": "execute_result"
    }
   ],
   "source": [
    "raw = pd.read_csv(\"Data_class.csv\", index_col=0)\n",
    "\n",
    "#pd.read_excel('dataset/histretSP.xls',\n",
    "                    #sheet_name='for_python',\n",
    "                    #index_col='year')\n",
    "raw.head()"
   ]
  },
  {
   "cell_type": "code",
   "execution_count": 4,
   "metadata": {
    "ExecuteTime": {
     "end_time": "2020-05-11T20:32:59.421435Z",
     "start_time": "2020-05-11T20:32:59.417483Z"
    }
   },
   "outputs": [],
   "source": [
    "def convert_nominal_to_real(nominal_return, inflation):\n",
    "    real = (1 + nominal_return)/(1+inflation) - 1\n",
    "    return real"
   ]
  },
  {
   "cell_type": "code",
   "execution_count": 5,
   "metadata": {
    "ExecuteTime": {
     "end_time": "2020-05-11T20:32:59.450960Z",
     "start_time": "2020-05-11T20:32:59.425245Z"
    }
   },
   "outputs": [],
   "source": [
    "real_return = pd.DataFrame(\n",
    "    {\n",
    "        'snp': convert_nominal_to_real(raw['snp'], raw['inflation']),\n",
    "        't_bill': convert_nominal_to_real(raw['t_bill'], raw['inflation']),\n",
    "        't_bond': convert_nominal_to_real(raw['t_bond'], raw['inflation']),\n",
    "        'cor_bond': convert_nominal_to_real(raw['cor_bond'], raw['inflation'])\n",
    "    },\n",
    "    index=raw.index)"
   ]
  },
  {
   "cell_type": "markdown",
   "metadata": {},
   "source": [
    "# Part 1"
   ]
  },
  {
   "cell_type": "markdown",
   "metadata": {},
   "source": [
    "## Real Return"
   ]
  },
  {
   "cell_type": "code",
   "execution_count": 6,
   "metadata": {
    "ExecuteTime": {
     "end_time": "2020-05-11T20:32:59.992693Z",
     "start_time": "2020-05-11T20:32:59.454493Z"
    }
   },
   "outputs": [
    {
     "data": {
      "image/png": "[encoded data removed]",
      "text/plain": [
       "<Figure size 720x360 with 1 Axes>"
      ]
     },
     "metadata": {
      "needs_background": "light"
     },
     "output_type": "display_data"
    }
   ],
   "source": [
    "plt.figure(figsize=(10,5))\n",
    "sns.lineplot(x = real_return.index, y='snp', data=real_return, linewidth = 1, label = 'S&P')\n",
    "sns.lineplot(x = real_return.index, y='t_bill', data=real_return, linewidth = 1, label = 'T Bill')\n",
    "sns.lineplot(x = real_return.index, y='t_bond', data=real_return,c = 'C3', linewidth = 1, label = 'T Bond')\n",
    "sns.lineplot(x = real_return.index, y='cor_bond', data=real_return, linewidth=1, label = 'Corporate Bond')\n",
    "plt.ylabel('Returns')\n",
    "plt.title('Real Return')\n",
    "plt.xlabel('Year')\n",
    "plt.savefig(\"fig/real_return_comparison\")\n",
    "plt.show()"
   ]
  },
  {
   "cell_type": "markdown",
   "metadata": {},
   "source": [
    "In this analysis there are 4 different assets that are used: \n",
    "1. US 3-month Treasury Bill or T Bill (Risk-Free asset) \n",
    "2. Standard and Poor’s or S&P 500 (stocks)\n",
    "3. 10-year US Treasury Bond or T Bond\n",
    "4. Baa Corporate Bond\n",
    "\n",
    "By looking at the plot, we can observe the differences in returns and the variability of the returns across assets. The plot clearly shows the high volatility of the stocks and the low volatility of the T-Bill. We can observe peaks and troughs of the stocks (blue line in the plot) in contrast to the smooth line of the T-Bill (orange line)."
   ]
  },
  {
   "cell_type": "markdown",
   "metadata": {},
   "source": [
    "## Real Vs. Nominal Return"
   ]
  },
  {
   "cell_type": "markdown",
   "metadata": {},
   "source": [
    "### S&P"
   ]
  },
  {
   "cell_type": "code",
   "execution_count": 7,
   "metadata": {
    "ExecuteTime": {
     "end_time": "2020-05-11T20:33:00.495006Z",
     "start_time": "2020-05-11T20:33:00.019539Z"
    }
   },
   "outputs": [
    {
     "data": {
      "image/png": "[encoded data removed]",
      "text/plain": [
       "<Figure size 720x360 with 1 Axes>"
      ]
     },
     "metadata": {
      "needs_background": "light"
     },
     "output_type": "display_data"
    }
   ],
   "source": [
    "plt.figure(figsize=(10,5))\n",
    "sns.lineplot(x = real_return.index, y='snp', data=real_return, linewidth = 1, label = 'Real')\n",
    "sns.lineplot(x = raw.index, y='snp', data=raw, linewidth = 1, label = 'Nominal')\n",
    "plt.ylabel('Returns')\n",
    "plt.ylim((-0.45, 0.6))\n",
    "plt.title('S&P Asset Returns')\n",
    "plt.savefig('fig/snp_real_nominal.png')\n",
    "plt.show()"
   ]
  },
  {
   "cell_type": "markdown",
   "metadata": {},
   "source": [
    "### T Bond"
   ]
  },
  {
   "cell_type": "code",
   "execution_count": 8,
   "metadata": {
    "ExecuteTime": {
     "end_time": "2020-05-11T20:33:00.867688Z",
     "start_time": "2020-05-11T20:33:00.497462Z"
    }
   },
   "outputs": [
    {
     "data": {
      "image/png": "[encoded data removed]",
      "text/plain": [
       "<Figure size 720x360 with 1 Axes>"
      ]
     },
     "metadata": {
      "needs_background": "light"
     },
     "output_type": "display_data"
    }
   ],
   "source": [
    "plt.figure(figsize=(10,5))\n",
    "sns.lineplot(x = real_return.index, y='t_bond', data=real_return, linewidth = 1, label = 'Real')\n",
    "sns.lineplot(x = raw.index, y='t_bond', data=raw, linewidth = 1, label = 'Nominal')\n",
    "plt.ylabel('Returns')\n",
    "plt.title('US T Bond Asset Returns')\n",
    "plt.savefig('fig/tbond_real_nominal.png')\n",
    "plt.show()"
   ]
  },
  {
   "cell_type": "markdown",
   "metadata": {},
   "source": [
    "### T Bill"
   ]
  },
  {
   "cell_type": "code",
   "execution_count": 9,
   "metadata": {
    "ExecuteTime": {
     "end_time": "2020-05-11T20:33:01.238436Z",
     "start_time": "2020-05-11T20:33:00.872073Z"
    }
   },
   "outputs": [
    {
     "data": {
      "image/png": "[encoded data removed]",
      "text/plain": [
       "<Figure size 720x360 with 1 Axes>"
      ]
     },
     "metadata": {
      "needs_background": "light"
     },
     "output_type": "display_data"
    }
   ],
   "source": [
    "plt.figure(figsize=(10,5))\n",
    "sns.lineplot(x = real_return.index, y='t_bill', data=real_return, linewidth = 1, label = 'Real')\n",
    "sns.lineplot(x = raw.index, y='t_bill', data=raw, linewidth = 1, label = 'Nominal')\n",
    "plt.ylabel('Returns')\n",
    "plt.ylim((-0.45, 0.6))\n",
    "plt.title('US T Bill Asset Returns')\n",
    "plt.savefig('fig/tbill_real_nominal.png')\n",
    "plt.show()"
   ]
  },
  {
   "cell_type": "markdown",
   "metadata": {},
   "source": [
    "There is not much difference between real and nominal returns. The effect of inflation on the returns is more visible in graphs of the T-Bond and T-Bill due to their lower returns."
   ]
  },
  {
   "cell_type": "markdown",
   "metadata": {},
   "source": [
    "## Excess"
   ]
  },
  {
   "cell_type": "code",
   "execution_count": 10,
   "metadata": {
    "ExecuteTime": {
     "end_time": "2020-05-11T20:33:01.487467Z",
     "start_time": "2020-05-11T20:33:01.240804Z"
    }
   },
   "outputs": [
    {
     "data": {
      "image/png": "[encoded data removed]",
      "text/plain": [
       "<Figure size 432x288 with 1 Axes>"
      ]
     },
     "metadata": {
      "needs_background": "light"
     },
     "output_type": "display_data"
    }
   ],
   "source": [
    "real_return['excess_stock'] = real_return['snp'] - real_return['t_bill']\n",
    "real_return['excess_bond'] = real_return['t_bond'] - real_return['t_bill']\n",
    "sns.lineplot(x = real_return.index, y='excess_stock', data=real_return, linewidth = 1, label = 'Excess Stock')\n",
    "sns.lineplot(x = real_return.index, y='excess_bond', data=real_return, linewidth = 1, label = 'Excess Bond')\n",
    "plt.ylabel('Excess Returns')\n",
    "plt.ylim((-0.45, 0.6))\n",
    "plt.show()"
   ]
  },
  {
   "cell_type": "markdown",
   "metadata": {},
   "source": [
    "## Statistic"
   ]
  },
  {
   "cell_type": "code",
   "execution_count": 11,
   "metadata": {
    "ExecuteTime": {
     "end_time": "2020-05-11T20:33:01.498152Z",
     "start_time": "2020-05-11T20:33:01.490381Z"
    }
   },
   "outputs": [],
   "source": [
    "def calculate_autocorrelation(df):\n",
    "    from scipy.stats import pearsonr\n",
    "    \n",
    "    autocorr_list = []\n",
    "    \n",
    "    for i in df.columns:\n",
    "        stock = df[i].dropna()\n",
    "        corr, pval = pearsonr(stock[:-1], stock[1:])\n",
    "        autocorr_list.append(corr)\n",
    "        \n",
    "    return autocorr_list"
   ]
  },
  {
   "cell_type": "code",
   "execution_count": 12,
   "metadata": {
    "ExecuteTime": {
     "end_time": "2020-05-11T20:33:01.507114Z",
     "start_time": "2020-05-11T20:33:01.500142Z"
    }
   },
   "outputs": [],
   "source": [
    "def calculate_statistic(stock_panel):\n",
    "    \n",
    "    mean = stock_panel.mean()\n",
    "    variance = stock_panel.var()\n",
    "    std = stock_panel.std()\n",
    "    skew = stock_panel.skew()\n",
    "    kurt = stock_panel.kurt()\n",
    "    autocorr = calculate_autocorrelation(stock_panel)\n",
    "    sharpe = mean/std\n",
    "    \n",
    "    stat1 = pd.concat([mean, variance, std, skew, kurt, sharpe], axis=1)\n",
    "    stat1.rename(columns={\n",
    "        0: 'mean',\n",
    "        1: 'var',\n",
    "        2: 'std',\n",
    "        3: 'skew',\n",
    "        4: 'kurt',\n",
    "        5: 'sharpe'\n",
    "    },\n",
    "                  inplace=True)\n",
    "    \n",
    "    stat2 = pd.DataFrame({'autocorr': autocorr}, index=stock_panel.columns)\n",
    "    \n",
    "    output = pd.merge(stat1, stat2, left_index=True, right_index=True)\n",
    "    \n",
    "    return output"
   ]
  },
  {
   "cell_type": "markdown",
   "metadata": {},
   "source": [
    "### Asset Statistics"
   ]
  },
  {
   "cell_type": "code",
   "execution_count": 73,
   "metadata": {
    "ExecuteTime": {
     "end_time": "2020-05-11T20:56:38.363532Z",
     "start_time": "2020-05-11T20:56:38.336300Z"
    }
   },
   "outputs": [
    {
     "data": {
      "text/html": [
       "<div>\n",
       "<style scoped>\n",
       "    .dataframe tbody tr th:only-of-type {\n",
       "        vertical-align: middle;\n",
       "    }\n",
       "\n",
       "    .dataframe tbody tr th {\n",
       "        vertical-align: top;\n",
       "    }\n",
       "\n",
       "    .dataframe thead th {\n",
       "        text-align: right;\n",
       "    }\n",
       "</style>\n",
       "<table border=\"1\" class=\"dataframe\">\n",
       "  <thead>\n",
       "    <tr style=\"text-align: right;\">\n",
       "      <th></th>\n",
       "      <th>mean</th>\n",
       "      <th>var</th>\n",
       "      <th>std</th>\n",
       "      <th>skew</th>\n",
       "      <th>kurt</th>\n",
       "      <th>sharpe</th>\n",
       "      <th>autocorr</th>\n",
       "    </tr>\n",
       "  </thead>\n",
       "  <tbody>\n",
       "    <tr>\n",
       "      <th>snp</th>\n",
       "      <td>0.084192</td>\n",
       "      <td>0.038520</td>\n",
       "      <td>0.196266</td>\n",
       "      <td>-0.164416</td>\n",
       "      <td>0.081575</td>\n",
       "      <td>0.428967</td>\n",
       "      <td>-0.026446</td>\n",
       "    </tr>\n",
       "    <tr>\n",
       "      <th>t_bill</th>\n",
       "      <td>0.004387</td>\n",
       "      <td>0.001276</td>\n",
       "      <td>0.035718</td>\n",
       "      <td>0.000892</td>\n",
       "      <td>3.594898</td>\n",
       "      <td>0.122827</td>\n",
       "      <td>0.720595</td>\n",
       "    </tr>\n",
       "    <tr>\n",
       "      <th>t_bond</th>\n",
       "      <td>0.021719</td>\n",
       "      <td>0.006610</td>\n",
       "      <td>0.081299</td>\n",
       "      <td>0.516695</td>\n",
       "      <td>0.318931</td>\n",
       "      <td>0.267150</td>\n",
       "      <td>0.055985</td>\n",
       "    </tr>\n",
       "    <tr>\n",
       "      <th>cor_bond</th>\n",
       "      <td>0.042222</td>\n",
       "      <td>0.007451</td>\n",
       "      <td>0.086317</td>\n",
       "      <td>0.564332</td>\n",
       "      <td>1.770052</td>\n",
       "      <td>0.489148</td>\n",
       "      <td>0.219896</td>\n",
       "    </tr>\n",
       "    <tr>\n",
       "      <th>excess_stock</th>\n",
       "      <td>0.079804</td>\n",
       "      <td>0.038654</td>\n",
       "      <td>0.196605</td>\n",
       "      <td>-0.317275</td>\n",
       "      <td>0.241322</td>\n",
       "      <td>0.405912</td>\n",
       "      <td>0.013090</td>\n",
       "    </tr>\n",
       "    <tr>\n",
       "      <th>excess_bond</th>\n",
       "      <td>0.017332</td>\n",
       "      <td>0.005140</td>\n",
       "      <td>0.071691</td>\n",
       "      <td>0.381521</td>\n",
       "      <td>0.267866</td>\n",
       "      <td>0.241761</td>\n",
       "      <td>-0.154508</td>\n",
       "    </tr>\n",
       "    <tr>\n",
       "      <th>excess_corp</th>\n",
       "      <td>0.037835</td>\n",
       "      <td>0.006027</td>\n",
       "      <td>0.077632</td>\n",
       "      <td>-0.014775</td>\n",
       "      <td>0.551131</td>\n",
       "      <td>0.487360</td>\n",
       "      <td>0.157831</td>\n",
       "    </tr>\n",
       "  </tbody>\n",
       "</table>\n",
       "</div>"
      ],
      "text/plain": [
       "                  mean       var       std      skew      kurt    sharpe  \\\n",
       "snp           0.084192  0.038520  0.196266 -0.164416  0.081575  0.428967   \n",
       "t_bill        0.004387  0.001276  0.035718  0.000892  3.594898  0.122827   \n",
       "t_bond        0.021719  0.006610  0.081299  0.516695  0.318931  0.267150   \n",
       "cor_bond      0.042222  0.007451  0.086317  0.564332  1.770052  0.489148   \n",
       "excess_stock  0.079804  0.038654  0.196605 -0.317275  0.241322  0.405912   \n",
       "excess_bond   0.017332  0.005140  0.071691  0.381521  0.267866  0.241761   \n",
       "excess_corp   0.037835  0.006027  0.077632 -0.014775  0.551131  0.487360   \n",
       "\n",
       "              autocorr  \n",
       "snp          -0.026446  \n",
       "t_bill        0.720595  \n",
       "t_bond        0.055985  \n",
       "cor_bond      0.219896  \n",
       "excess_stock  0.013090  \n",
       "excess_bond  -0.154508  \n",
       "excess_corp   0.157831  "
      ]
     },
     "execution_count": 73,
     "metadata": {},
     "output_type": "execute_result"
    }
   ],
   "source": [
    "round(calculate_statistic(real_return),6)"
   ]
  },
  {
   "cell_type": "markdown",
   "metadata": {},
   "source": [
    "#### Mean\n",
    "The Stock has on average the highest returns. These higher returns, however, come with some risks. Its standard deviation is the highest, indicating that its variability is much higher. Stocks tend to be a risky asset because the returns depend on a company/index performance (i.e. increase/decrease in equity or dividend payments).\n",
    "T-Bill has the lowest average return. Due to the lower risk associated with this asset, it provides a much lower return than stocks or T-Bond with an average return that is close to zero.\n",
    "T-Bond is placed in between Stock and T-Bill in terms of its average return and standard deviation.\n",
    "\n",
    "#### Skewness\n",
    "The skewness of the T-Bill and stocks is close to zero (between -0.5 and 0.5). It means that their distribution is approximately symmetric. The return of the T-Bill does not tend to be affected much by economic data. Although portfolio returns tend to be left-skewed, in this case the performance of the index S&P 500 follows a symmetric distribution.\n",
    "The skewness of the T-Bond indicates that the distribution is moderately and positively skewed. Investors usually prefer positively skewed returns.\n",
    "\n",
    "#### Kurtosis\n",
    "Kurtosis of the three assets are between 0 and 3, indicating that the tails of their distribution are generally less extreme than the tails of the normal distribution. This means that they did not experience many extreme returns during the period analyzed.\n",
    "\n",
    "#### Sharpe ratio\n",
    "In terms of the Sharpe ratio, the stocks have the highest ratio while the T-Bill has the lowest. It shows that investors in stocks are better rewarded (higher returns) for the extra risk that they have to assume when they invest in these types of assets."
   ]
  },
  {
   "cell_type": "markdown",
   "metadata": {},
   "source": [
    "## Different Allocation Strategy"
   ]
  },
  {
   "cell_type": "code",
   "execution_count": 14,
   "metadata": {
    "ExecuteTime": {
     "end_time": "2020-05-11T20:33:01.559522Z",
     "start_time": "2020-05-11T20:33:01.551493Z"
    }
   },
   "outputs": [
    {
     "data": {
      "text/plain": [
       "[0.0, 0.1, 0.2, 0.3, 0.4, 0.5, 0.6, 0.7, 0.8, 0.9, 1.0]"
      ]
     },
     "execution_count": 14,
     "metadata": {},
     "output_type": "execute_result"
    }
   ],
   "source": [
    "percent_array = list(np.arange(0, 1.1, 0.1).round(1))\n",
    "percent_array"
   ]
  },
  {
   "cell_type": "code",
   "execution_count": 15,
   "metadata": {
    "ExecuteTime": {
     "end_time": "2020-05-11T20:33:01.575018Z",
     "start_time": "2020-05-11T20:33:01.565925Z"
    }
   },
   "outputs": [],
   "source": [
    "def calculate_allocation_with_weight(dtframe, percentage_list):\n",
    "    for percent in percent_array:\n",
    "        dtframe[str(percent)] = dtframe.iloc[:,0]*percent + dtframe.iloc[:,1]*(1-percent)\n",
    "        \n",
    "    return dtframe\n",
    "    "
   ]
  },
  {
   "cell_type": "code",
   "execution_count": 16,
   "metadata": {
    "ExecuteTime": {
     "end_time": "2020-05-11T20:33:01.614623Z",
     "start_time": "2020-05-11T20:33:01.580883Z"
    }
   },
   "outputs": [
    {
     "data": {
      "text/html": [
       "<div>\n",
       "<style scoped>\n",
       "    .dataframe tbody tr th:only-of-type {\n",
       "        vertical-align: middle;\n",
       "    }\n",
       "\n",
       "    .dataframe tbody tr th {\n",
       "        vertical-align: top;\n",
       "    }\n",
       "\n",
       "    .dataframe thead th {\n",
       "        text-align: right;\n",
       "    }\n",
       "</style>\n",
       "<table border=\"1\" class=\"dataframe\">\n",
       "  <thead>\n",
       "    <tr style=\"text-align: right;\">\n",
       "      <th></th>\n",
       "      <th>0.0</th>\n",
       "      <th>0.1</th>\n",
       "      <th>0.2</th>\n",
       "      <th>0.3</th>\n",
       "      <th>0.4</th>\n",
       "      <th>0.5</th>\n",
       "      <th>0.6</th>\n",
       "      <th>0.7</th>\n",
       "      <th>0.8</th>\n",
       "      <th>0.9</th>\n",
       "      <th>1.0</th>\n",
       "    </tr>\n",
       "    <tr>\n",
       "      <th>year</th>\n",
       "      <th></th>\n",
       "      <th></th>\n",
       "      <th></th>\n",
       "      <th></th>\n",
       "      <th></th>\n",
       "      <th></th>\n",
       "      <th></th>\n",
       "      <th></th>\n",
       "      <th></th>\n",
       "      <th></th>\n",
       "      <th></th>\n",
       "    </tr>\n",
       "  </thead>\n",
       "  <tbody>\n",
       "    <tr>\n",
       "      <th>1928</th>\n",
       "      <td>-0.022706</td>\n",
       "      <td>0.020769</td>\n",
       "      <td>0.064245</td>\n",
       "      <td>0.107721</td>\n",
       "      <td>0.151196</td>\n",
       "      <td>0.194672</td>\n",
       "      <td>0.238148</td>\n",
       "      <td>0.281623</td>\n",
       "      <td>0.325099</td>\n",
       "      <td>0.368574</td>\n",
       "      <td>0.412050</td>\n",
       "    </tr>\n",
       "    <tr>\n",
       "      <th>1929</th>\n",
       "      <td>0.010438</td>\n",
       "      <td>-0.002064</td>\n",
       "      <td>-0.014565</td>\n",
       "      <td>-0.027067</td>\n",
       "      <td>-0.039569</td>\n",
       "      <td>-0.052071</td>\n",
       "      <td>-0.064572</td>\n",
       "      <td>-0.077074</td>\n",
       "      <td>-0.089576</td>\n",
       "      <td>-0.102078</td>\n",
       "      <td>-0.114579</td>\n",
       "    </tr>\n",
       "    <tr>\n",
       "      <th>1930</th>\n",
       "      <td>-0.000093</td>\n",
       "      <td>-0.030572</td>\n",
       "      <td>-0.061050</td>\n",
       "      <td>-0.091528</td>\n",
       "      <td>-0.122007</td>\n",
       "      <td>-0.152485</td>\n",
       "      <td>-0.182963</td>\n",
       "      <td>-0.213442</td>\n",
       "      <td>-0.243920</td>\n",
       "      <td>-0.274398</td>\n",
       "      <td>-0.304877</td>\n",
       "    </tr>\n",
       "    <tr>\n",
       "      <th>1931</th>\n",
       "      <td>-0.053463</td>\n",
       "      <td>-0.098789</td>\n",
       "      <td>-0.144115</td>\n",
       "      <td>-0.189442</td>\n",
       "      <td>-0.234768</td>\n",
       "      <td>-0.280094</td>\n",
       "      <td>-0.325421</td>\n",
       "      <td>-0.370747</td>\n",
       "      <td>-0.416073</td>\n",
       "      <td>-0.461400</td>\n",
       "      <td>-0.506726</td>\n",
       "    </tr>\n",
       "    <tr>\n",
       "      <th>1932</th>\n",
       "      <td>0.086068</td>\n",
       "      <td>0.066634</td>\n",
       "      <td>0.047199</td>\n",
       "      <td>0.027765</td>\n",
       "      <td>0.008330</td>\n",
       "      <td>-0.011104</td>\n",
       "      <td>-0.030538</td>\n",
       "      <td>-0.049973</td>\n",
       "      <td>-0.069407</td>\n",
       "      <td>-0.088842</td>\n",
       "      <td>-0.108276</td>\n",
       "    </tr>\n",
       "  </tbody>\n",
       "</table>\n",
       "</div>"
      ],
      "text/plain": [
       "           0.0       0.1       0.2       0.3       0.4       0.5       0.6  \\\n",
       "year                                                                         \n",
       "1928 -0.022706  0.020769  0.064245  0.107721  0.151196  0.194672  0.238148   \n",
       "1929  0.010438 -0.002064 -0.014565 -0.027067 -0.039569 -0.052071 -0.064572   \n",
       "1930 -0.000093 -0.030572 -0.061050 -0.091528 -0.122007 -0.152485 -0.182963   \n",
       "1931 -0.053463 -0.098789 -0.144115 -0.189442 -0.234768 -0.280094 -0.325421   \n",
       "1932  0.086068  0.066634  0.047199  0.027765  0.008330 -0.011104 -0.030538   \n",
       "\n",
       "           0.7       0.8       0.9       1.0  \n",
       "year                                          \n",
       "1928  0.281623  0.325099  0.368574  0.412050  \n",
       "1929 -0.077074 -0.089576 -0.102078 -0.114579  \n",
       "1930 -0.213442 -0.243920 -0.274398 -0.304877  \n",
       "1931 -0.370747 -0.416073 -0.461400 -0.506726  \n",
       "1932 -0.049973 -0.069407 -0.088842 -0.108276  "
      ]
     },
     "execution_count": 16,
     "metadata": {},
     "output_type": "execute_result"
    }
   ],
   "source": [
    "stock_bond_allo = calculate_allocation_with_weight(real_return.iloc[:, 4:6], percent_array).iloc[:, 2:]\n",
    "stock_bond_allo.head()"
   ]
  },
  {
   "cell_type": "code",
   "execution_count": 17,
   "metadata": {
    "ExecuteTime": {
     "end_time": "2020-05-11T20:33:01.635000Z",
     "start_time": "2020-05-11T20:33:01.624025Z"
    }
   },
   "outputs": [],
   "source": [
    "# fig, axes = plt.subplots(3, 4, figsize = (20,10))\n",
    "# plot_df = stock_bond_allo.iloc[:, 2:]\n",
    "# for i, ax in enumerate(axes.flatten()[:len(plot_df.columns)]):\n",
    "#     sns.lineplot(x=plot_df.index, y=plot_df.iloc[:,i], ax=ax)"
   ]
  },
  {
   "cell_type": "code",
   "execution_count": 18,
   "metadata": {
    "ExecuteTime": {
     "end_time": "2020-05-11T20:33:01.680070Z",
     "start_time": "2020-05-11T20:33:01.644954Z"
    }
   },
   "outputs": [
    {
     "data": {
      "text/html": [
       "<div>\n",
       "<style scoped>\n",
       "    .dataframe tbody tr th:only-of-type {\n",
       "        vertical-align: middle;\n",
       "    }\n",
       "\n",
       "    .dataframe tbody tr th {\n",
       "        vertical-align: top;\n",
       "    }\n",
       "\n",
       "    .dataframe thead th {\n",
       "        text-align: right;\n",
       "    }\n",
       "</style>\n",
       "<table border=\"1\" class=\"dataframe\">\n",
       "  <thead>\n",
       "    <tr style=\"text-align: right;\">\n",
       "      <th></th>\n",
       "      <th>mean</th>\n",
       "      <th>var</th>\n",
       "      <th>std</th>\n",
       "      <th>skew</th>\n",
       "      <th>kurt</th>\n",
       "      <th>sharpe</th>\n",
       "      <th>autocorr</th>\n",
       "    </tr>\n",
       "  </thead>\n",
       "  <tbody>\n",
       "    <tr>\n",
       "      <th>0.0</th>\n",
       "      <td>0.0173</td>\n",
       "      <td>0.0051</td>\n",
       "      <td>0.0717</td>\n",
       "      <td>0.3815</td>\n",
       "      <td>0.2679</td>\n",
       "      <td>0.2418</td>\n",
       "      <td>-0.1545</td>\n",
       "    </tr>\n",
       "    <tr>\n",
       "      <th>0.1</th>\n",
       "      <td>0.0236</td>\n",
       "      <td>0.0046</td>\n",
       "      <td>0.0677</td>\n",
       "      <td>0.2471</td>\n",
       "      <td>0.0548</td>\n",
       "      <td>0.3481</td>\n",
       "      <td>-0.1064</td>\n",
       "    </tr>\n",
       "    <tr>\n",
       "      <th>0.2</th>\n",
       "      <td>0.0298</td>\n",
       "      <td>0.0049</td>\n",
       "      <td>0.0700</td>\n",
       "      <td>0.0310</td>\n",
       "      <td>-0.0610</td>\n",
       "      <td>0.4258</td>\n",
       "      <td>-0.0452</td>\n",
       "    </tr>\n",
       "    <tr>\n",
       "      <th>0.3</th>\n",
       "      <td>0.0361</td>\n",
       "      <td>0.0061</td>\n",
       "      <td>0.0780</td>\n",
       "      <td>-0.1536</td>\n",
       "      <td>0.0013</td>\n",
       "      <td>0.4623</td>\n",
       "      <td>0.0012</td>\n",
       "    </tr>\n",
       "    <tr>\n",
       "      <th>0.4</th>\n",
       "      <td>0.0423</td>\n",
       "      <td>0.0081</td>\n",
       "      <td>0.0902</td>\n",
       "      <td>-0.2576</td>\n",
       "      <td>0.1106</td>\n",
       "      <td>0.4691</td>\n",
       "      <td>0.0243</td>\n",
       "    </tr>\n",
       "    <tr>\n",
       "      <th>0.5</th>\n",
       "      <td>0.0486</td>\n",
       "      <td>0.0111</td>\n",
       "      <td>0.1052</td>\n",
       "      <td>-0.3035</td>\n",
       "      <td>0.1861</td>\n",
       "      <td>0.4619</td>\n",
       "      <td>0.0316</td>\n",
       "    </tr>\n",
       "    <tr>\n",
       "      <th>0.6</th>\n",
       "      <td>0.0548</td>\n",
       "      <td>0.0148</td>\n",
       "      <td>0.1218</td>\n",
       "      <td>-0.3203</td>\n",
       "      <td>0.2248</td>\n",
       "      <td>0.4499</td>\n",
       "      <td>0.0311</td>\n",
       "    </tr>\n",
       "    <tr>\n",
       "      <th>0.7</th>\n",
       "      <td>0.0611</td>\n",
       "      <td>0.0195</td>\n",
       "      <td>0.1396</td>\n",
       "      <td>-0.3244</td>\n",
       "      <td>0.2409</td>\n",
       "      <td>0.4373</td>\n",
       "      <td>0.0273</td>\n",
       "    </tr>\n",
       "    <tr>\n",
       "      <th>0.8</th>\n",
       "      <td>0.0673</td>\n",
       "      <td>0.0250</td>\n",
       "      <td>0.1582</td>\n",
       "      <td>-0.3235</td>\n",
       "      <td>0.2455</td>\n",
       "      <td>0.4256</td>\n",
       "      <td>0.0225</td>\n",
       "    </tr>\n",
       "    <tr>\n",
       "      <th>0.9</th>\n",
       "      <td>0.0736</td>\n",
       "      <td>0.0314</td>\n",
       "      <td>0.1772</td>\n",
       "      <td>-0.3206</td>\n",
       "      <td>0.2446</td>\n",
       "      <td>0.4151</td>\n",
       "      <td>0.0177</td>\n",
       "    </tr>\n",
       "    <tr>\n",
       "      <th>1.0</th>\n",
       "      <td>0.0798</td>\n",
       "      <td>0.0387</td>\n",
       "      <td>0.1966</td>\n",
       "      <td>-0.3173</td>\n",
       "      <td>0.2413</td>\n",
       "      <td>0.4059</td>\n",
       "      <td>0.0131</td>\n",
       "    </tr>\n",
       "  </tbody>\n",
       "</table>\n",
       "</div>"
      ],
      "text/plain": [
       "       mean     var     std    skew    kurt  sharpe  autocorr\n",
       "0.0  0.0173  0.0051  0.0717  0.3815  0.2679  0.2418   -0.1545\n",
       "0.1  0.0236  0.0046  0.0677  0.2471  0.0548  0.3481   -0.1064\n",
       "0.2  0.0298  0.0049  0.0700  0.0310 -0.0610  0.4258   -0.0452\n",
       "0.3  0.0361  0.0061  0.0780 -0.1536  0.0013  0.4623    0.0012\n",
       "0.4  0.0423  0.0081  0.0902 -0.2576  0.1106  0.4691    0.0243\n",
       "0.5  0.0486  0.0111  0.1052 -0.3035  0.1861  0.4619    0.0316\n",
       "0.6  0.0548  0.0148  0.1218 -0.3203  0.2248  0.4499    0.0311\n",
       "0.7  0.0611  0.0195  0.1396 -0.3244  0.2409  0.4373    0.0273\n",
       "0.8  0.0673  0.0250  0.1582 -0.3235  0.2455  0.4256    0.0225\n",
       "0.9  0.0736  0.0314  0.1772 -0.3206  0.2446  0.4151    0.0177\n",
       "1.0  0.0798  0.0387  0.1966 -0.3173  0.2413  0.4059    0.0131"
      ]
     },
     "execution_count": 18,
     "metadata": {},
     "output_type": "execute_result"
    }
   ],
   "source": [
    "stock_bond_allo_stat = calculate_statistic(stock_bond_allo)\n",
    "round(stock_bond_allo_stat,4)"
   ]
  },
  {
   "cell_type": "code",
   "execution_count": 19,
   "metadata": {
    "ExecuteTime": {
     "end_time": "2020-05-11T20:33:08.875389Z",
     "start_time": "2020-05-11T20:33:01.684200Z"
    }
   },
   "outputs": [
    {
     "data": {
      "image/png": "[encoded data removed]",
      "text/plain": [
       "<Figure size 1440x720 with 7 Axes>"
      ]
     },
     "metadata": {
      "needs_background": "light"
     },
     "output_type": "display_data"
    }
   ],
   "source": [
    "fig, axes = plt.subplots(2, 4, figsize = (20,10))\n",
    "for i, ax in enumerate(axes.flatten()[:len(stock_bond_allo_stat.columns)]):\n",
    "    sns.lineplot(x=stock_bond_allo_stat.index, \n",
    "                 y=stock_bond_allo_stat.iloc[:,i].values, ax=ax)\n",
    "    sns.scatterplot(x=stock_bond_allo_stat.index, \n",
    "                 y=stock_bond_allo_stat.iloc[:,i].values, ax=ax)\n",
    "    ax.set(xlabel = 'Excess Stock', ylabel = '{}'.format(stock_bond_allo_stat.columns[i]))\n",
    "\n",
    "fig.delaxes(axes[1,3])\n",
    "plt.savefig(\"fig/two_asset_stats.png\",pad_inches = 0.02, bbox_inches='tight', dpi = 300)"
   ]
  },
  {
   "cell_type": "markdown",
   "metadata": {},
   "source": [
    "The graphs show how Variance varies as the proportion of stock increases. The variance started at 0.051 when the allocation is 0% stock and 100% T bond. The variance is then decreased as the amount of stock increases to 10% and 20% and rapidly increases again as this proportion is pushed even further."
   ]
  },
  {
   "cell_type": "markdown",
   "metadata": {},
   "source": [
    "# Part 2"
   ]
  },
  {
   "cell_type": "code",
   "execution_count": 20,
   "metadata": {
    "ExecuteTime": {
     "end_time": "2020-05-11T20:33:08.900753Z",
     "start_time": "2020-05-11T20:33:08.879609Z"
    }
   },
   "outputs": [
    {
     "data": {
      "text/html": [
       "<div>\n",
       "<style scoped>\n",
       "    .dataframe tbody tr th:only-of-type {\n",
       "        vertical-align: middle;\n",
       "    }\n",
       "\n",
       "    .dataframe tbody tr th {\n",
       "        vertical-align: top;\n",
       "    }\n",
       "\n",
       "    .dataframe thead th {\n",
       "        text-align: right;\n",
       "    }\n",
       "</style>\n",
       "<table border=\"1\" class=\"dataframe\">\n",
       "  <thead>\n",
       "    <tr style=\"text-align: right;\">\n",
       "      <th></th>\n",
       "      <th>index</th>\n",
       "      <th>stock</th>\n",
       "      <th>bond</th>\n",
       "      <th>corp</th>\n",
       "    </tr>\n",
       "  </thead>\n",
       "  <tbody>\n",
       "    <tr>\n",
       "      <th>0</th>\n",
       "      <td>0</td>\n",
       "      <td>0.0</td>\n",
       "      <td>0.0</td>\n",
       "      <td>1.0</td>\n",
       "    </tr>\n",
       "    <tr>\n",
       "      <th>1</th>\n",
       "      <td>1</td>\n",
       "      <td>0.0</td>\n",
       "      <td>0.1</td>\n",
       "      <td>0.9</td>\n",
       "    </tr>\n",
       "    <tr>\n",
       "      <th>2</th>\n",
       "      <td>2</td>\n",
       "      <td>0.0</td>\n",
       "      <td>0.2</td>\n",
       "      <td>0.8</td>\n",
       "    </tr>\n",
       "    <tr>\n",
       "      <th>3</th>\n",
       "      <td>3</td>\n",
       "      <td>0.0</td>\n",
       "      <td>0.3</td>\n",
       "      <td>0.7</td>\n",
       "    </tr>\n",
       "    <tr>\n",
       "      <th>4</th>\n",
       "      <td>4</td>\n",
       "      <td>0.0</td>\n",
       "      <td>0.4</td>\n",
       "      <td>0.6</td>\n",
       "    </tr>\n",
       "    <tr>\n",
       "      <th>...</th>\n",
       "      <td>...</td>\n",
       "      <td>...</td>\n",
       "      <td>...</td>\n",
       "      <td>...</td>\n",
       "    </tr>\n",
       "    <tr>\n",
       "      <th>61</th>\n",
       "      <td>89</td>\n",
       "      <td>0.8</td>\n",
       "      <td>0.1</td>\n",
       "      <td>0.1</td>\n",
       "    </tr>\n",
       "    <tr>\n",
       "      <th>62</th>\n",
       "      <td>90</td>\n",
       "      <td>0.8</td>\n",
       "      <td>0.2</td>\n",
       "      <td>0.0</td>\n",
       "    </tr>\n",
       "    <tr>\n",
       "      <th>63</th>\n",
       "      <td>99</td>\n",
       "      <td>0.9</td>\n",
       "      <td>0.0</td>\n",
       "      <td>0.1</td>\n",
       "    </tr>\n",
       "    <tr>\n",
       "      <th>64</th>\n",
       "      <td>100</td>\n",
       "      <td>0.9</td>\n",
       "      <td>0.1</td>\n",
       "      <td>0.0</td>\n",
       "    </tr>\n",
       "    <tr>\n",
       "      <th>65</th>\n",
       "      <td>110</td>\n",
       "      <td>1.0</td>\n",
       "      <td>0.0</td>\n",
       "      <td>0.0</td>\n",
       "    </tr>\n",
       "  </tbody>\n",
       "</table>\n",
       "<p>66 rows × 4 columns</p>\n",
       "</div>"
      ],
      "text/plain": [
       "    index  stock  bond  corp\n",
       "0       0    0.0   0.0   1.0\n",
       "1       1    0.0   0.1   0.9\n",
       "2       2    0.0   0.2   0.8\n",
       "3       3    0.0   0.3   0.7\n",
       "4       4    0.0   0.4   0.6\n",
       "..    ...    ...   ...   ...\n",
       "61     89    0.8   0.1   0.1\n",
       "62     90    0.8   0.2   0.0\n",
       "63     99    0.9   0.0   0.1\n",
       "64    100    0.9   0.1   0.0\n",
       "65    110    1.0   0.0   0.0\n",
       "\n",
       "[66 rows x 4 columns]"
      ]
     },
     "execution_count": 20,
     "metadata": {},
     "output_type": "execute_result"
    }
   ],
   "source": [
    "repeated_array = np.repeat(percent_array, 11)\n",
    "\n",
    "repeat_list = []\n",
    "for i in np.arange(0, 11):\n",
    "    repeat_list.extend(percent_array)\n",
    "\n",
    "grid_df = pd.DataFrame({\n",
    "    'stock': repeated_array,\n",
    "    'bond':repeat_list\n",
    "})\n",
    "grid_df['sum'] = grid_df['stock'] + grid_df['bond']\n",
    "grid_df_filter = grid_df[grid_df['sum'] <= 1]\n",
    "grid_df_filter['corp'] = 1 - (grid_df_filter['stock'] + grid_df_filter['bond'])\n",
    "grid = round(grid_df_filter.drop(['sum'], axis = 1),1).reset_index()\n",
    "grid"
   ]
  },
  {
   "cell_type": "code",
   "execution_count": 21,
   "metadata": {
    "ExecuteTime": {
     "end_time": "2020-05-11T20:33:08.924175Z",
     "start_time": "2020-05-11T20:33:08.903535Z"
    }
   },
   "outputs": [
    {
     "data": {
      "text/html": [
       "<div>\n",
       "<style scoped>\n",
       "    .dataframe tbody tr th:only-of-type {\n",
       "        vertical-align: middle;\n",
       "    }\n",
       "\n",
       "    .dataframe tbody tr th {\n",
       "        vertical-align: top;\n",
       "    }\n",
       "\n",
       "    .dataframe thead th {\n",
       "        text-align: right;\n",
       "    }\n",
       "</style>\n",
       "<table border=\"1\" class=\"dataframe\">\n",
       "  <thead>\n",
       "    <tr style=\"text-align: right;\">\n",
       "      <th></th>\n",
       "      <th>snp</th>\n",
       "      <th>t_bill</th>\n",
       "      <th>t_bond</th>\n",
       "      <th>cor_bond</th>\n",
       "      <th>excess_stock</th>\n",
       "      <th>excess_bond</th>\n",
       "      <th>excess_corp</th>\n",
       "    </tr>\n",
       "    <tr>\n",
       "      <th>year</th>\n",
       "      <th></th>\n",
       "      <th></th>\n",
       "      <th></th>\n",
       "      <th></th>\n",
       "      <th></th>\n",
       "      <th></th>\n",
       "      <th></th>\n",
       "    </tr>\n",
       "  </thead>\n",
       "  <tbody>\n",
       "    <tr>\n",
       "      <th>1928</th>\n",
       "      <td>0.454842</td>\n",
       "      <td>0.042792</td>\n",
       "      <td>0.020086</td>\n",
       "      <td>0.044204</td>\n",
       "      <td>0.412050</td>\n",
       "      <td>-0.022706</td>\n",
       "      <td>0.001412</td>\n",
       "    </tr>\n",
       "    <tr>\n",
       "      <th>1929</th>\n",
       "      <td>-0.082979</td>\n",
       "      <td>0.031600</td>\n",
       "      <td>0.042038</td>\n",
       "      <td>0.030179</td>\n",
       "      <td>-0.114579</td>\n",
       "      <td>0.010438</td>\n",
       "      <td>-0.001421</td>\n",
       "    </tr>\n",
       "    <tr>\n",
       "      <th>1930</th>\n",
       "      <td>-0.230696</td>\n",
       "      <td>0.074181</td>\n",
       "      <td>0.074087</td>\n",
       "      <td>0.032978</td>\n",
       "      <td>-0.304877</td>\n",
       "      <td>-0.000093</td>\n",
       "      <td>-0.041202</td>\n",
       "    </tr>\n",
       "    <tr>\n",
       "      <th>1931</th>\n",
       "      <td>-0.383305</td>\n",
       "      <td>0.123422</td>\n",
       "      <td>0.069959</td>\n",
       "      <td>-0.074127</td>\n",
       "      <td>-0.506726</td>\n",
       "      <td>-0.053463</td>\n",
       "      <td>-0.197549</td>\n",
       "    </tr>\n",
       "    <tr>\n",
       "      <th>1932</th>\n",
       "      <td>0.018480</td>\n",
       "      <td>0.126756</td>\n",
       "      <td>0.212824</td>\n",
       "      <td>0.377810</td>\n",
       "      <td>-0.108276</td>\n",
       "      <td>0.086068</td>\n",
       "      <td>0.251055</td>\n",
       "    </tr>\n",
       "    <tr>\n",
       "      <th>...</th>\n",
       "      <td>...</td>\n",
       "      <td>...</td>\n",
       "      <td>...</td>\n",
       "      <td>...</td>\n",
       "      <td>...</td>\n",
       "      <td>...</td>\n",
       "      <td>...</td>\n",
       "    </tr>\n",
       "    <tr>\n",
       "      <th>2015</th>\n",
       "      <td>0.012574</td>\n",
       "      <td>-0.000674</td>\n",
       "      <td>0.011629</td>\n",
       "      <td>-0.008165</td>\n",
       "      <td>0.013248</td>\n",
       "      <td>0.012303</td>\n",
       "      <td>-0.007491</td>\n",
       "    </tr>\n",
       "    <tr>\n",
       "      <th>2016</th>\n",
       "      <td>0.103823</td>\n",
       "      <td>-0.009308</td>\n",
       "      <td>-0.005624</td>\n",
       "      <td>0.089918</td>\n",
       "      <td>0.113130</td>\n",
       "      <td>0.003684</td>\n",
       "      <td>0.099226</td>\n",
       "    </tr>\n",
       "    <tr>\n",
       "      <th>2017</th>\n",
       "      <td>0.190693</td>\n",
       "      <td>-0.011742</td>\n",
       "      <td>0.006577</td>\n",
       "      <td>0.074355</td>\n",
       "      <td>0.202435</td>\n",
       "      <td>0.018319</td>\n",
       "      <td>0.086097</td>\n",
       "    </tr>\n",
       "    <tr>\n",
       "      <th>2018</th>\n",
       "      <td>-0.065081</td>\n",
       "      <td>-0.004889</td>\n",
       "      <td>-0.023982</td>\n",
       "      <td>-0.050787</td>\n",
       "      <td>-0.060192</td>\n",
       "      <td>-0.019093</td>\n",
       "      <td>-0.045898</td>\n",
       "    </tr>\n",
       "    <tr>\n",
       "      <th>2019</th>\n",
       "      <td>0.288879</td>\n",
       "      <td>-0.002575</td>\n",
       "      <td>0.076842</td>\n",
       "      <td>0.132766</td>\n",
       "      <td>0.291455</td>\n",
       "      <td>0.079417</td>\n",
       "      <td>0.135342</td>\n",
       "    </tr>\n",
       "  </tbody>\n",
       "</table>\n",
       "<p>92 rows × 7 columns</p>\n",
       "</div>"
      ],
      "text/plain": [
       "           snp    t_bill    t_bond  cor_bond  excess_stock  excess_bond  \\\n",
       "year                                                                      \n",
       "1928  0.454842  0.042792  0.020086  0.044204      0.412050    -0.022706   \n",
       "1929 -0.082979  0.031600  0.042038  0.030179     -0.114579     0.010438   \n",
       "1930 -0.230696  0.074181  0.074087  0.032978     -0.304877    -0.000093   \n",
       "1931 -0.383305  0.123422  0.069959 -0.074127     -0.506726    -0.053463   \n",
       "1932  0.018480  0.126756  0.212824  0.377810     -0.108276     0.086068   \n",
       "...        ...       ...       ...       ...           ...          ...   \n",
       "2015  0.012574 -0.000674  0.011629 -0.008165      0.013248     0.012303   \n",
       "2016  0.103823 -0.009308 -0.005624  0.089918      0.113130     0.003684   \n",
       "2017  0.190693 -0.011742  0.006577  0.074355      0.202435     0.018319   \n",
       "2018 -0.065081 -0.004889 -0.023982 -0.050787     -0.060192    -0.019093   \n",
       "2019  0.288879 -0.002575  0.076842  0.132766      0.291455     0.079417   \n",
       "\n",
       "      excess_corp  \n",
       "year               \n",
       "1928     0.001412  \n",
       "1929    -0.001421  \n",
       "1930    -0.041202  \n",
       "1931    -0.197549  \n",
       "1932     0.251055  \n",
       "...           ...  \n",
       "2015    -0.007491  \n",
       "2016     0.099226  \n",
       "2017     0.086097  \n",
       "2018    -0.045898  \n",
       "2019     0.135342  \n",
       "\n",
       "[92 rows x 7 columns]"
      ]
     },
     "execution_count": 21,
     "metadata": {},
     "output_type": "execute_result"
    }
   ],
   "source": [
    "real_return['excess_corp'] = real_return['cor_bond'] - real_return['t_bill']\n",
    "real_return"
   ]
  },
  {
   "cell_type": "code",
   "execution_count": 74,
   "metadata": {
    "ExecuteTime": {
     "end_time": "2020-05-11T21:04:31.865107Z",
     "start_time": "2020-05-11T21:04:31.841017Z"
    }
   },
   "outputs": [
    {
     "data": {
      "text/html": [
       "<div>\n",
       "<style scoped>\n",
       "    .dataframe tbody tr th:only-of-type {\n",
       "        vertical-align: middle;\n",
       "    }\n",
       "\n",
       "    .dataframe tbody tr th {\n",
       "        vertical-align: top;\n",
       "    }\n",
       "\n",
       "    .dataframe thead th {\n",
       "        text-align: right;\n",
       "    }\n",
       "</style>\n",
       "<table border=\"1\" class=\"dataframe\">\n",
       "  <thead>\n",
       "    <tr style=\"text-align: right;\">\n",
       "      <th></th>\n",
       "      <th>mean</th>\n",
       "      <th>var</th>\n",
       "      <th>std</th>\n",
       "      <th>skew</th>\n",
       "      <th>kurt</th>\n",
       "      <th>sharpe</th>\n",
       "      <th>autocorr</th>\n",
       "    </tr>\n",
       "  </thead>\n",
       "  <tbody>\n",
       "    <tr>\n",
       "      <th>snp</th>\n",
       "      <td>0.084192</td>\n",
       "      <td>0.038520</td>\n",
       "      <td>0.196266</td>\n",
       "      <td>-0.164416</td>\n",
       "      <td>0.081575</td>\n",
       "      <td>0.428967</td>\n",
       "      <td>-0.026446</td>\n",
       "    </tr>\n",
       "    <tr>\n",
       "      <th>t_bill</th>\n",
       "      <td>0.004387</td>\n",
       "      <td>0.001276</td>\n",
       "      <td>0.035718</td>\n",
       "      <td>0.000892</td>\n",
       "      <td>3.594898</td>\n",
       "      <td>0.122827</td>\n",
       "      <td>0.720595</td>\n",
       "    </tr>\n",
       "    <tr>\n",
       "      <th>t_bond</th>\n",
       "      <td>0.021719</td>\n",
       "      <td>0.006610</td>\n",
       "      <td>0.081299</td>\n",
       "      <td>0.516695</td>\n",
       "      <td>0.318931</td>\n",
       "      <td>0.267150</td>\n",
       "      <td>0.055985</td>\n",
       "    </tr>\n",
       "    <tr>\n",
       "      <th>cor_bond</th>\n",
       "      <td>0.042222</td>\n",
       "      <td>0.007451</td>\n",
       "      <td>0.086317</td>\n",
       "      <td>0.564332</td>\n",
       "      <td>1.770052</td>\n",
       "      <td>0.489148</td>\n",
       "      <td>0.219896</td>\n",
       "    </tr>\n",
       "    <tr>\n",
       "      <th>excess_stock</th>\n",
       "      <td>0.079804</td>\n",
       "      <td>0.038654</td>\n",
       "      <td>0.196605</td>\n",
       "      <td>-0.317275</td>\n",
       "      <td>0.241322</td>\n",
       "      <td>0.405912</td>\n",
       "      <td>0.013090</td>\n",
       "    </tr>\n",
       "    <tr>\n",
       "      <th>excess_bond</th>\n",
       "      <td>0.017332</td>\n",
       "      <td>0.005140</td>\n",
       "      <td>0.071691</td>\n",
       "      <td>0.381521</td>\n",
       "      <td>0.267866</td>\n",
       "      <td>0.241761</td>\n",
       "      <td>-0.154508</td>\n",
       "    </tr>\n",
       "    <tr>\n",
       "      <th>excess_corp</th>\n",
       "      <td>0.037835</td>\n",
       "      <td>0.006027</td>\n",
       "      <td>0.077632</td>\n",
       "      <td>-0.014775</td>\n",
       "      <td>0.551131</td>\n",
       "      <td>0.487360</td>\n",
       "      <td>0.157831</td>\n",
       "    </tr>\n",
       "  </tbody>\n",
       "</table>\n",
       "</div>"
      ],
      "text/plain": [
       "                  mean       var       std      skew      kurt    sharpe  \\\n",
       "snp           0.084192  0.038520  0.196266 -0.164416  0.081575  0.428967   \n",
       "t_bill        0.004387  0.001276  0.035718  0.000892  3.594898  0.122827   \n",
       "t_bond        0.021719  0.006610  0.081299  0.516695  0.318931  0.267150   \n",
       "cor_bond      0.042222  0.007451  0.086317  0.564332  1.770052  0.489148   \n",
       "excess_stock  0.079804  0.038654  0.196605 -0.317275  0.241322  0.405912   \n",
       "excess_bond   0.017332  0.005140  0.071691  0.381521  0.267866  0.241761   \n",
       "excess_corp   0.037835  0.006027  0.077632 -0.014775  0.551131  0.487360   \n",
       "\n",
       "              autocorr  \n",
       "snp          -0.026446  \n",
       "t_bill        0.720595  \n",
       "t_bond        0.055985  \n",
       "cor_bond      0.219896  \n",
       "excess_stock  0.013090  \n",
       "excess_bond  -0.154508  \n",
       "excess_corp   0.157831  "
      ]
     },
     "execution_count": 74,
     "metadata": {},
     "output_type": "execute_result"
    }
   ],
   "source": [
    "round(calculate_statistic(real_return),6)"
   ]
  },
  {
   "cell_type": "markdown",
   "metadata": {},
   "source": [
    "The corporate bond has a higher return than the T-Bill and T-Bond, but lower than the S&P 500. The corporate bond has the same standard deviation as the T-Bond, indicating that they have similar volatility. As the corporate bond has a higher return than the T-Bond, its Sharpe ratio is greater. When comparing across all assets, the corporate bond has the greatest Sharpe ratio. It offers a greater expected return for a relatively lower amount of risk. The skewness shows that the distribution of the corporate bond is moderately skewed, having positively skewed returns.\n",
    "The kurtosis is below 3, so the tails are less extreme than the tails of the normal distribution. It indicates that there are not extreme returns."
   ]
  },
  {
   "cell_type": "code",
   "execution_count": 23,
   "metadata": {
    "ExecuteTime": {
     "end_time": "2020-05-11T20:33:08.962127Z",
     "start_time": "2020-05-11T20:33:08.953030Z"
    }
   },
   "outputs": [],
   "source": [
    "def calculate_3stocks_allo(dataframe, grid, grid_index):\n",
    "    output = dataframe['excess_stock'] * grid['stock'][grid_index] + dataframe[\n",
    "        'excess_bond'] * grid['bond'][grid_index] + dataframe['excess_corp'] * grid[\n",
    "            'corp'][grid_index]\n",
    "    return output"
   ]
  },
  {
   "cell_type": "code",
   "execution_count": null,
   "metadata": {},
   "outputs": [],
   "source": []
  },
  {
   "cell_type": "code",
   "execution_count": 24,
   "metadata": {
    "ExecuteTime": {
     "end_time": "2020-05-11T20:33:09.046519Z",
     "start_time": "2020-05-11T20:33:08.965482Z"
    }
   },
   "outputs": [],
   "source": [
    "allocation_grid = pd.DataFrame()\n",
    "for i in np.arange(len(grid)):\n",
    "    allocation_grid['st={},bd={}'.format(\n",
    "        grid['stock'][i],\n",
    "        grid['bond'][i])] = calculate_3stocks_allo(real_return, grid, i)"
   ]
  },
  {
   "cell_type": "code",
   "execution_count": 25,
   "metadata": {
    "ExecuteTime": {
     "end_time": "2020-05-11T20:33:09.127794Z",
     "start_time": "2020-05-11T20:33:09.048503Z"
    }
   },
   "outputs": [
    {
     "data": {
      "text/html": [
       "<div>\n",
       "<style scoped>\n",
       "    .dataframe tbody tr th:only-of-type {\n",
       "        vertical-align: middle;\n",
       "    }\n",
       "\n",
       "    .dataframe tbody tr th {\n",
       "        vertical-align: top;\n",
       "    }\n",
       "\n",
       "    .dataframe thead th {\n",
       "        text-align: right;\n",
       "    }\n",
       "</style>\n",
       "<table border=\"1\" class=\"dataframe\">\n",
       "  <thead>\n",
       "    <tr style=\"text-align: right;\">\n",
       "      <th></th>\n",
       "      <th>index</th>\n",
       "      <th>mean</th>\n",
       "      <th>var</th>\n",
       "      <th>std</th>\n",
       "      <th>skew</th>\n",
       "      <th>kurt</th>\n",
       "      <th>sharpe</th>\n",
       "      <th>autocorr</th>\n",
       "    </tr>\n",
       "  </thead>\n",
       "  <tbody>\n",
       "    <tr>\n",
       "      <th>0</th>\n",
       "      <td>st=0.0,bd=0.0</td>\n",
       "      <td>0.037835</td>\n",
       "      <td>0.006027</td>\n",
       "      <td>0.077632</td>\n",
       "      <td>-0.014775</td>\n",
       "      <td>0.551131</td>\n",
       "      <td>0.487360</td>\n",
       "      <td>0.157831</td>\n",
       "    </tr>\n",
       "    <tr>\n",
       "      <th>1</th>\n",
       "      <td>st=0.0,bd=0.1</td>\n",
       "      <td>0.035784</td>\n",
       "      <td>0.005518</td>\n",
       "      <td>0.074284</td>\n",
       "      <td>-0.035013</td>\n",
       "      <td>0.336438</td>\n",
       "      <td>0.481721</td>\n",
       "      <td>0.156806</td>\n",
       "    </tr>\n",
       "    <tr>\n",
       "      <th>2</th>\n",
       "      <td>st=0.0,bd=0.2</td>\n",
       "      <td>0.033734</td>\n",
       "      <td>0.005103</td>\n",
       "      <td>0.071435</td>\n",
       "      <td>-0.039660</td>\n",
       "      <td>0.187254</td>\n",
       "      <td>0.472235</td>\n",
       "      <td>0.148838</td>\n",
       "    </tr>\n",
       "    <tr>\n",
       "      <th>3</th>\n",
       "      <td>st=0.0,bd=0.3</td>\n",
       "      <td>0.031684</td>\n",
       "      <td>0.004781</td>\n",
       "      <td>0.069145</td>\n",
       "      <td>-0.024588</td>\n",
       "      <td>0.102438</td>\n",
       "      <td>0.458223</td>\n",
       "      <td>0.132584</td>\n",
       "    </tr>\n",
       "    <tr>\n",
       "      <th>4</th>\n",
       "      <td>st=0.0,bd=0.4</td>\n",
       "      <td>0.029634</td>\n",
       "      <td>0.004552</td>\n",
       "      <td>0.067471</td>\n",
       "      <td>0.012151</td>\n",
       "      <td>0.068890</td>\n",
       "      <td>0.439203</td>\n",
       "      <td>0.107295</td>\n",
       "    </tr>\n",
       "    <tr>\n",
       "      <th>...</th>\n",
       "      <td>...</td>\n",
       "      <td>...</td>\n",
       "      <td>...</td>\n",
       "      <td>...</td>\n",
       "      <td>...</td>\n",
       "      <td>...</td>\n",
       "      <td>...</td>\n",
       "      <td>...</td>\n",
       "    </tr>\n",
       "    <tr>\n",
       "      <th>61</th>\n",
       "      <td>st=0.8,bd=0.1</td>\n",
       "      <td>0.069360</td>\n",
       "      <td>0.026033</td>\n",
       "      <td>0.161348</td>\n",
       "      <td>-0.358133</td>\n",
       "      <td>0.325558</td>\n",
       "      <td>0.429880</td>\n",
       "      <td>0.019080</td>\n",
       "    </tr>\n",
       "    <tr>\n",
       "      <th>62</th>\n",
       "      <td>st=0.8,bd=0.2</td>\n",
       "      <td>0.067310</td>\n",
       "      <td>0.025014</td>\n",
       "      <td>0.158159</td>\n",
       "      <td>-0.323471</td>\n",
       "      <td>0.245524</td>\n",
       "      <td>0.425584</td>\n",
       "      <td>0.022539</td>\n",
       "    </tr>\n",
       "    <tr>\n",
       "      <th>63</th>\n",
       "      <td>st=0.9,bd=0.0</td>\n",
       "      <td>0.075607</td>\n",
       "      <td>0.032588</td>\n",
       "      <td>0.180521</td>\n",
       "      <td>-0.350944</td>\n",
       "      <td>0.317299</td>\n",
       "      <td>0.418828</td>\n",
       "      <td>0.013691</td>\n",
       "    </tr>\n",
       "    <tr>\n",
       "      <th>64</th>\n",
       "      <td>st=0.9,bd=0.1</td>\n",
       "      <td>0.073557</td>\n",
       "      <td>0.031400</td>\n",
       "      <td>0.177202</td>\n",
       "      <td>-0.320630</td>\n",
       "      <td>0.244625</td>\n",
       "      <td>0.415105</td>\n",
       "      <td>0.017673</td>\n",
       "    </tr>\n",
       "    <tr>\n",
       "      <th>65</th>\n",
       "      <td>st=1.0,bd=0.0</td>\n",
       "      <td>0.079804</td>\n",
       "      <td>0.038654</td>\n",
       "      <td>0.196605</td>\n",
       "      <td>-0.317275</td>\n",
       "      <td>0.241322</td>\n",
       "      <td>0.405912</td>\n",
       "      <td>0.013090</td>\n",
       "    </tr>\n",
       "  </tbody>\n",
       "</table>\n",
       "<p>66 rows × 8 columns</p>\n",
       "</div>"
      ],
      "text/plain": [
       "            index      mean       var       std      skew      kurt    sharpe  \\\n",
       "0   st=0.0,bd=0.0  0.037835  0.006027  0.077632 -0.014775  0.551131  0.487360   \n",
       "1   st=0.0,bd=0.1  0.035784  0.005518  0.074284 -0.035013  0.336438  0.481721   \n",
       "2   st=0.0,bd=0.2  0.033734  0.005103  0.071435 -0.039660  0.187254  0.472235   \n",
       "3   st=0.0,bd=0.3  0.031684  0.004781  0.069145 -0.024588  0.102438  0.458223   \n",
       "4   st=0.0,bd=0.4  0.029634  0.004552  0.067471  0.012151  0.068890  0.439203   \n",
       "..            ...       ...       ...       ...       ...       ...       ...   \n",
       "61  st=0.8,bd=0.1  0.069360  0.026033  0.161348 -0.358133  0.325558  0.429880   \n",
       "62  st=0.8,bd=0.2  0.067310  0.025014  0.158159 -0.323471  0.245524  0.425584   \n",
       "63  st=0.9,bd=0.0  0.075607  0.032588  0.180521 -0.350944  0.317299  0.418828   \n",
       "64  st=0.9,bd=0.1  0.073557  0.031400  0.177202 -0.320630  0.244625  0.415105   \n",
       "65  st=1.0,bd=0.0  0.079804  0.038654  0.196605 -0.317275  0.241322  0.405912   \n",
       "\n",
       "    autocorr  \n",
       "0   0.157831  \n",
       "1   0.156806  \n",
       "2   0.148838  \n",
       "3   0.132584  \n",
       "4   0.107295  \n",
       "..       ...  \n",
       "61  0.019080  \n",
       "62  0.022539  \n",
       "63  0.013691  \n",
       "64  0.017673  \n",
       "65  0.013090  \n",
       "\n",
       "[66 rows x 8 columns]"
      ]
     },
     "execution_count": 25,
     "metadata": {},
     "output_type": "execute_result"
    }
   ],
   "source": [
    "statistic_three_assets = calculate_statistic(allocation_grid).reset_index()\n",
    "statistic_three_assets"
   ]
  },
  {
   "cell_type": "code",
   "execution_count": 26,
   "metadata": {
    "ExecuteTime": {
     "end_time": "2020-05-11T20:33:09.139196Z",
     "start_time": "2020-05-11T20:33:09.130189Z"
    }
   },
   "outputs": [
    {
     "data": {
      "text/html": [
       "<div>\n",
       "<style scoped>\n",
       "    .dataframe tbody tr th:only-of-type {\n",
       "        vertical-align: middle;\n",
       "    }\n",
       "\n",
       "    .dataframe tbody tr th {\n",
       "        vertical-align: top;\n",
       "    }\n",
       "\n",
       "    .dataframe thead th {\n",
       "        text-align: right;\n",
       "    }\n",
       "</style>\n",
       "<table border=\"1\" class=\"dataframe\">\n",
       "  <thead>\n",
       "    <tr style=\"text-align: right;\">\n",
       "      <th></th>\n",
       "      <th>mean</th>\n",
       "    </tr>\n",
       "  </thead>\n",
       "  <tbody>\n",
       "    <tr>\n",
       "      <th>65</th>\n",
       "      <td>0.079804</td>\n",
       "    </tr>\n",
       "    <tr>\n",
       "      <th>63</th>\n",
       "      <td>0.075607</td>\n",
       "    </tr>\n",
       "    <tr>\n",
       "      <th>64</th>\n",
       "      <td>0.073557</td>\n",
       "    </tr>\n",
       "    <tr>\n",
       "      <th>60</th>\n",
       "      <td>0.071410</td>\n",
       "    </tr>\n",
       "    <tr>\n",
       "      <th>61</th>\n",
       "      <td>0.069360</td>\n",
       "    </tr>\n",
       "  </tbody>\n",
       "</table>\n",
       "</div>"
      ],
      "text/plain": [
       "        mean\n",
       "65  0.079804\n",
       "63  0.075607\n",
       "64  0.073557\n",
       "60  0.071410\n",
       "61  0.069360"
      ]
     },
     "execution_count": 26,
     "metadata": {},
     "output_type": "execute_result"
    }
   ],
   "source": [
    "statistic_three_assets[['mean']].sort_values(by = 'mean', ascending = False).head()"
   ]
  },
  {
   "cell_type": "code",
   "execution_count": 27,
   "metadata": {
    "ExecuteTime": {
     "end_time": "2020-05-11T20:33:09.150771Z",
     "start_time": "2020-05-11T20:33:09.141603Z"
    }
   },
   "outputs": [
    {
     "data": {
      "text/html": [
       "<div>\n",
       "<style scoped>\n",
       "    .dataframe tbody tr th:only-of-type {\n",
       "        vertical-align: middle;\n",
       "    }\n",
       "\n",
       "    .dataframe tbody tr th {\n",
       "        vertical-align: top;\n",
       "    }\n",
       "\n",
       "    .dataframe thead th {\n",
       "        text-align: right;\n",
       "    }\n",
       "</style>\n",
       "<table border=\"1\" class=\"dataframe\">\n",
       "  <thead>\n",
       "    <tr style=\"text-align: right;\">\n",
       "      <th></th>\n",
       "      <th>var</th>\n",
       "    </tr>\n",
       "  </thead>\n",
       "  <tbody>\n",
       "    <tr>\n",
       "      <th>65</th>\n",
       "      <td>0.038654</td>\n",
       "    </tr>\n",
       "    <tr>\n",
       "      <th>63</th>\n",
       "      <td>0.032588</td>\n",
       "    </tr>\n",
       "    <tr>\n",
       "      <th>64</th>\n",
       "      <td>0.031400</td>\n",
       "    </tr>\n",
       "    <tr>\n",
       "      <th>60</th>\n",
       "      <td>0.027145</td>\n",
       "    </tr>\n",
       "    <tr>\n",
       "      <th>61</th>\n",
       "      <td>0.026033</td>\n",
       "    </tr>\n",
       "  </tbody>\n",
       "</table>\n",
       "</div>"
      ],
      "text/plain": [
       "         var\n",
       "65  0.038654\n",
       "63  0.032588\n",
       "64  0.031400\n",
       "60  0.027145\n",
       "61  0.026033"
      ]
     },
     "execution_count": 27,
     "metadata": {},
     "output_type": "execute_result"
    }
   ],
   "source": [
    "statistic_three_assets[['var']].sort_values(by = 'var', ascending = False).head()"
   ]
  },
  {
   "cell_type": "code",
   "execution_count": 28,
   "metadata": {
    "ExecuteTime": {
     "end_time": "2020-05-11T20:33:09.176966Z",
     "start_time": "2020-05-11T20:33:09.152826Z"
    }
   },
   "outputs": [
    {
     "data": {
      "text/html": [
       "<div>\n",
       "<style scoped>\n",
       "    .dataframe tbody tr th:only-of-type {\n",
       "        vertical-align: middle;\n",
       "    }\n",
       "\n",
       "    .dataframe tbody tr th {\n",
       "        vertical-align: top;\n",
       "    }\n",
       "\n",
       "    .dataframe thead th {\n",
       "        text-align: right;\n",
       "    }\n",
       "</style>\n",
       "<table border=\"1\" class=\"dataframe\">\n",
       "  <thead>\n",
       "    <tr style=\"text-align: right;\">\n",
       "      <th></th>\n",
       "      <th>index</th>\n",
       "      <th>stock</th>\n",
       "      <th>bond</th>\n",
       "      <th>corp</th>\n",
       "      <th>index</th>\n",
       "      <th>mean</th>\n",
       "      <th>var</th>\n",
       "      <th>std</th>\n",
       "      <th>skew</th>\n",
       "      <th>kurt</th>\n",
       "      <th>sharpe</th>\n",
       "      <th>autocorr</th>\n",
       "    </tr>\n",
       "  </thead>\n",
       "  <tbody>\n",
       "    <tr>\n",
       "      <th>0</th>\n",
       "      <td>0</td>\n",
       "      <td>0.0</td>\n",
       "      <td>0.0</td>\n",
       "      <td>1.0</td>\n",
       "      <td>st=0.0,bd=0.0</td>\n",
       "      <td>0.037835</td>\n",
       "      <td>0.006027</td>\n",
       "      <td>0.077632</td>\n",
       "      <td>-0.014775</td>\n",
       "      <td>0.551131</td>\n",
       "      <td>0.487360</td>\n",
       "      <td>0.157831</td>\n",
       "    </tr>\n",
       "    <tr>\n",
       "      <th>1</th>\n",
       "      <td>1</td>\n",
       "      <td>0.0</td>\n",
       "      <td>0.1</td>\n",
       "      <td>0.9</td>\n",
       "      <td>st=0.0,bd=0.1</td>\n",
       "      <td>0.035784</td>\n",
       "      <td>0.005518</td>\n",
       "      <td>0.074284</td>\n",
       "      <td>-0.035013</td>\n",
       "      <td>0.336438</td>\n",
       "      <td>0.481721</td>\n",
       "      <td>0.156806</td>\n",
       "    </tr>\n",
       "    <tr>\n",
       "      <th>2</th>\n",
       "      <td>2</td>\n",
       "      <td>0.0</td>\n",
       "      <td>0.2</td>\n",
       "      <td>0.8</td>\n",
       "      <td>st=0.0,bd=0.2</td>\n",
       "      <td>0.033734</td>\n",
       "      <td>0.005103</td>\n",
       "      <td>0.071435</td>\n",
       "      <td>-0.039660</td>\n",
       "      <td>0.187254</td>\n",
       "      <td>0.472235</td>\n",
       "      <td>0.148838</td>\n",
       "    </tr>\n",
       "    <tr>\n",
       "      <th>3</th>\n",
       "      <td>3</td>\n",
       "      <td>0.0</td>\n",
       "      <td>0.3</td>\n",
       "      <td>0.7</td>\n",
       "      <td>st=0.0,bd=0.3</td>\n",
       "      <td>0.031684</td>\n",
       "      <td>0.004781</td>\n",
       "      <td>0.069145</td>\n",
       "      <td>-0.024588</td>\n",
       "      <td>0.102438</td>\n",
       "      <td>0.458223</td>\n",
       "      <td>0.132584</td>\n",
       "    </tr>\n",
       "    <tr>\n",
       "      <th>4</th>\n",
       "      <td>4</td>\n",
       "      <td>0.0</td>\n",
       "      <td>0.4</td>\n",
       "      <td>0.6</td>\n",
       "      <td>st=0.0,bd=0.4</td>\n",
       "      <td>0.029634</td>\n",
       "      <td>0.004552</td>\n",
       "      <td>0.067471</td>\n",
       "      <td>0.012151</td>\n",
       "      <td>0.068890</td>\n",
       "      <td>0.439203</td>\n",
       "      <td>0.107295</td>\n",
       "    </tr>\n",
       "    <tr>\n",
       "      <th>...</th>\n",
       "      <td>...</td>\n",
       "      <td>...</td>\n",
       "      <td>...</td>\n",
       "      <td>...</td>\n",
       "      <td>...</td>\n",
       "      <td>...</td>\n",
       "      <td>...</td>\n",
       "      <td>...</td>\n",
       "      <td>...</td>\n",
       "      <td>...</td>\n",
       "      <td>...</td>\n",
       "      <td>...</td>\n",
       "    </tr>\n",
       "    <tr>\n",
       "      <th>61</th>\n",
       "      <td>89</td>\n",
       "      <td>0.8</td>\n",
       "      <td>0.1</td>\n",
       "      <td>0.1</td>\n",
       "      <td>st=0.8,bd=0.1</td>\n",
       "      <td>0.069360</td>\n",
       "      <td>0.026033</td>\n",
       "      <td>0.161348</td>\n",
       "      <td>-0.358133</td>\n",
       "      <td>0.325558</td>\n",
       "      <td>0.429880</td>\n",
       "      <td>0.019080</td>\n",
       "    </tr>\n",
       "    <tr>\n",
       "      <th>62</th>\n",
       "      <td>90</td>\n",
       "      <td>0.8</td>\n",
       "      <td>0.2</td>\n",
       "      <td>0.0</td>\n",
       "      <td>st=0.8,bd=0.2</td>\n",
       "      <td>0.067310</td>\n",
       "      <td>0.025014</td>\n",
       "      <td>0.158159</td>\n",
       "      <td>-0.323471</td>\n",
       "      <td>0.245524</td>\n",
       "      <td>0.425584</td>\n",
       "      <td>0.022539</td>\n",
       "    </tr>\n",
       "    <tr>\n",
       "      <th>63</th>\n",
       "      <td>99</td>\n",
       "      <td>0.9</td>\n",
       "      <td>0.0</td>\n",
       "      <td>0.1</td>\n",
       "      <td>st=0.9,bd=0.0</td>\n",
       "      <td>0.075607</td>\n",
       "      <td>0.032588</td>\n",
       "      <td>0.180521</td>\n",
       "      <td>-0.350944</td>\n",
       "      <td>0.317299</td>\n",
       "      <td>0.418828</td>\n",
       "      <td>0.013691</td>\n",
       "    </tr>\n",
       "    <tr>\n",
       "      <th>64</th>\n",
       "      <td>100</td>\n",
       "      <td>0.9</td>\n",
       "      <td>0.1</td>\n",
       "      <td>0.0</td>\n",
       "      <td>st=0.9,bd=0.1</td>\n",
       "      <td>0.073557</td>\n",
       "      <td>0.031400</td>\n",
       "      <td>0.177202</td>\n",
       "      <td>-0.320630</td>\n",
       "      <td>0.244625</td>\n",
       "      <td>0.415105</td>\n",
       "      <td>0.017673</td>\n",
       "    </tr>\n",
       "    <tr>\n",
       "      <th>65</th>\n",
       "      <td>110</td>\n",
       "      <td>1.0</td>\n",
       "      <td>0.0</td>\n",
       "      <td>0.0</td>\n",
       "      <td>st=1.0,bd=0.0</td>\n",
       "      <td>0.079804</td>\n",
       "      <td>0.038654</td>\n",
       "      <td>0.196605</td>\n",
       "      <td>-0.317275</td>\n",
       "      <td>0.241322</td>\n",
       "      <td>0.405912</td>\n",
       "      <td>0.013090</td>\n",
       "    </tr>\n",
       "  </tbody>\n",
       "</table>\n",
       "<p>66 rows × 12 columns</p>\n",
       "</div>"
      ],
      "text/plain": [
       "   index  stock  bond  corp          index      mean       var       std  \\\n",
       "0      0    0.0   0.0   1.0  st=0.0,bd=0.0  0.037835  0.006027  0.077632   \n",
       "1      1    0.0   0.1   0.9  st=0.0,bd=0.1  0.035784  0.005518  0.074284   \n",
       "2      2    0.0   0.2   0.8  st=0.0,bd=0.2  0.033734  0.005103  0.071435   \n",
       "3      3    0.0   0.3   0.7  st=0.0,bd=0.3  0.031684  0.004781  0.069145   \n",
       "4      4    0.0   0.4   0.6  st=0.0,bd=0.4  0.029634  0.004552  0.067471   \n",
       "..   ...    ...   ...   ...            ...       ...       ...       ...   \n",
       "61    89    0.8   0.1   0.1  st=0.8,bd=0.1  0.069360  0.026033  0.161348   \n",
       "62    90    0.8   0.2   0.0  st=0.8,bd=0.2  0.067310  0.025014  0.158159   \n",
       "63    99    0.9   0.0   0.1  st=0.9,bd=0.0  0.075607  0.032588  0.180521   \n",
       "64   100    0.9   0.1   0.0  st=0.9,bd=0.1  0.073557  0.031400  0.177202   \n",
       "65   110    1.0   0.0   0.0  st=1.0,bd=0.0  0.079804  0.038654  0.196605   \n",
       "\n",
       "        skew      kurt    sharpe  autocorr  \n",
       "0  -0.014775  0.551131  0.487360  0.157831  \n",
       "1  -0.035013  0.336438  0.481721  0.156806  \n",
       "2  -0.039660  0.187254  0.472235  0.148838  \n",
       "3  -0.024588  0.102438  0.458223  0.132584  \n",
       "4   0.012151  0.068890  0.439203  0.107295  \n",
       "..       ...       ...       ...       ...  \n",
       "61 -0.358133  0.325558  0.429880  0.019080  \n",
       "62 -0.323471  0.245524  0.425584  0.022539  \n",
       "63 -0.350944  0.317299  0.418828  0.013691  \n",
       "64 -0.320630  0.244625  0.415105  0.017673  \n",
       "65 -0.317275  0.241322  0.405912  0.013090  \n",
       "\n",
       "[66 rows x 12 columns]"
      ]
     },
     "execution_count": 28,
     "metadata": {},
     "output_type": "execute_result"
    }
   ],
   "source": [
    "statistics_concatenated = pd.concat([grid, statistic_three_assets], axis = 1)\n",
    "statistics_concatenated"
   ]
  },
  {
   "cell_type": "markdown",
   "metadata": {},
   "source": [
    "## Minimum Variance"
   ]
  },
  {
   "cell_type": "code",
   "execution_count": 29,
   "metadata": {
    "ExecuteTime": {
     "end_time": "2020-05-11T20:33:12.745445Z",
     "start_time": "2020-05-11T20:33:09.179235Z"
    }
   },
   "outputs": [
    {
     "data": {
      "image/png": "[encoded data removed]",
      "text/plain": [
       "<Figure size 720x720 with 2 Axes>"
      ]
     },
     "metadata": {
      "needs_background": "light"
     },
     "output_type": "display_data"
    }
   ],
   "source": [
    "plt.figure(figsize=(10,10))\n",
    "mean_pivot = statistics_concatenated[['stock', 'bond',\n",
    "                                      'var']].pivot(index='stock',\n",
    "                                                     columns='bond',\n",
    "                                                     values='var')\n",
    "sns.heatmap(mean_pivot, cmap='RdYlGn', annot=True)\n",
    "plt.title('Variance Return of Assets')\n",
    "plt.ylabel('S&P Stock')\n",
    "plt.xlabel('T Bond')\n",
    "plt.savefig('fig/heatmap_variance_return.png',bbox_inches='tight', dpi = 300)\n",
    "plt.show()"
   ]
  },
  {
   "cell_type": "markdown",
   "metadata": {},
   "source": [
    "The figure above is a grid representation of portfolio composition vs. Variance of Return on Asset. The x-axis represents the percentage of T Bond in the portfolio, the y-axis represents the percentage of S&P Stock in the portfolio and the color spectrum represents the Variance. Since the percentage will need to add up to 100%, the missing percentage will represent the amount of Corporate Bond in the portfolio. For example, T bond = 0.2 and S&P Stock = 0.5 yield to 0.013 Variance. This implies that the same portfolio consists of 30% of Corporate Bond.\n",
    "The color spectrum helps to categorize the different portfolio based on the variance. It can be observed that the variance increases as the percentage of S&P stock increases and the percentage of T-Bill decreases.\n",
    "\n",
    "\n",
    "The portfolio with the lowest variance is Portfolio with Stock = 10%, T Bond = 70%, and Corporate Bond = 20% with Variance = 0.004375."
   ]
  },
  {
   "cell_type": "code",
   "execution_count": 66,
   "metadata": {
    "ExecuteTime": {
     "end_time": "2020-05-11T20:46:46.754836Z",
     "start_time": "2020-05-11T20:46:46.734779Z"
    }
   },
   "outputs": [
    {
     "data": {
      "text/html": [
       "<div>\n",
       "<style scoped>\n",
       "    .dataframe tbody tr th:only-of-type {\n",
       "        vertical-align: middle;\n",
       "    }\n",
       "\n",
       "    .dataframe tbody tr th {\n",
       "        vertical-align: top;\n",
       "    }\n",
       "\n",
       "    .dataframe thead th {\n",
       "        text-align: right;\n",
       "    }\n",
       "</style>\n",
       "<table border=\"1\" class=\"dataframe\">\n",
       "  <thead>\n",
       "    <tr style=\"text-align: right;\">\n",
       "      <th></th>\n",
       "      <th>index</th>\n",
       "      <th>stock</th>\n",
       "      <th>bond</th>\n",
       "      <th>corp</th>\n",
       "      <th>index</th>\n",
       "      <th>mean</th>\n",
       "      <th>var</th>\n",
       "      <th>std</th>\n",
       "      <th>skew</th>\n",
       "      <th>kurt</th>\n",
       "      <th>sharpe</th>\n",
       "      <th>autocorr</th>\n",
       "    </tr>\n",
       "  </thead>\n",
       "  <tbody>\n",
       "    <tr>\n",
       "      <th>18</th>\n",
       "      <td>18</td>\n",
       "      <td>0.1</td>\n",
       "      <td>0.7</td>\n",
       "      <td>0.2</td>\n",
       "      <td>st=0.1,bd=0.7</td>\n",
       "      <td>0.02768</td>\n",
       "      <td>0.004358</td>\n",
       "      <td>0.066013</td>\n",
       "      <td>0.073999</td>\n",
       "      <td>0.024246</td>\n",
       "      <td>0.419305</td>\n",
       "      <td>-0.014795</td>\n",
       "    </tr>\n",
       "  </tbody>\n",
       "</table>\n",
       "</div>"
      ],
      "text/plain": [
       "   index  stock  bond  corp          index     mean       var       std  \\\n",
       "18    18    0.1   0.7   0.2  st=0.1,bd=0.7  0.02768  0.004358  0.066013   \n",
       "\n",
       "        skew      kurt    sharpe  autocorr  \n",
       "18  0.073999  0.024246  0.419305 -0.014795  "
      ]
     },
     "execution_count": 66,
     "metadata": {},
     "output_type": "execute_result"
    }
   ],
   "source": [
    "min_var = statistics_concatenated[statistics_concatenated['var'] ==statistics_concatenated['var'].min()]\n",
    "min_var"
   ]
  },
  {
   "cell_type": "markdown",
   "metadata": {},
   "source": [
    "## Maximum Sharpe"
   ]
  },
  {
   "cell_type": "code",
   "execution_count": 30,
   "metadata": {
    "ExecuteTime": {
     "end_time": "2020-05-11T20:33:16.086972Z",
     "start_time": "2020-05-11T20:33:12.748375Z"
    }
   },
   "outputs": [
    {
     "data": {
      "image/png": "[encoded data removed]",
      "text/plain": [
       "<Figure size 720x720 with 2 Axes>"
      ]
     },
     "metadata": {
      "needs_background": "light"
     },
     "output_type": "display_data"
    }
   ],
   "source": [
    "plt.figure(figsize=(10,10))\n",
    "sharpe_pivot = statistics_concatenated[['stock', 'bond',\n",
    "                                      'sharpe']].pivot(index='stock',\n",
    "                                                     columns='bond',\n",
    "                                                     values='sharpe')\n",
    "sns.heatmap(sharpe_pivot, cmap='RdYlGn', annot=True, fmt='.3g')\n",
    "plt.title('Sharpe Ratio of Return')\n",
    "plt.ylabel('S&P Stock')\n",
    "plt.xlabel('T Bond')\n",
    "plt.savefig('fig/heatmap_Sharpe_Ratio_return.png', bbox_inches='tight', dpi = 300)\n",
    "plt.show()"
   ]
  },
  {
   "cell_type": "markdown",
   "metadata": {},
   "source": [
    "The heatmap shows the distribution of Sharpe ratio in the scenario of a 3-asset allocation in portfolios. Higher values of Sharpe ratio are in the shades of green color and lower values are in the shades of red color. Another general observation that can be made is that the Sharpe ratio gradually decreases with increase in the stock allocation when it represents below 50% of the portfolio. However, it is the least when the portfolio has 100% bond allocation.\n",
    "The recommended allocation for the 3 asset portfolio based on maximum Sharpe ratio is Stock = 20%, bond = 10%, corporate bond = 70%."
   ]
  },
  {
   "cell_type": "code",
   "execution_count": 71,
   "metadata": {
    "ExecuteTime": {
     "end_time": "2020-05-11T20:50:42.745281Z",
     "start_time": "2020-05-11T20:50:42.728403Z"
    }
   },
   "outputs": [
    {
     "data": {
      "text/html": [
       "<div>\n",
       "<style scoped>\n",
       "    .dataframe tbody tr th:only-of-type {\n",
       "        vertical-align: middle;\n",
       "    }\n",
       "\n",
       "    .dataframe tbody tr th {\n",
       "        vertical-align: top;\n",
       "    }\n",
       "\n",
       "    .dataframe thead th {\n",
       "        text-align: right;\n",
       "    }\n",
       "</style>\n",
       "<table border=\"1\" class=\"dataframe\">\n",
       "  <thead>\n",
       "    <tr style=\"text-align: right;\">\n",
       "      <th></th>\n",
       "      <th>index</th>\n",
       "      <th>stock</th>\n",
       "      <th>bond</th>\n",
       "      <th>corp</th>\n",
       "      <th>index</th>\n",
       "      <th>mean</th>\n",
       "      <th>var</th>\n",
       "      <th>std</th>\n",
       "      <th>skew</th>\n",
       "      <th>kurt</th>\n",
       "      <th>sharpe</th>\n",
       "      <th>autocorr</th>\n",
       "    </tr>\n",
       "  </thead>\n",
       "  <tbody>\n",
       "    <tr>\n",
       "      <th>22</th>\n",
       "      <td>23</td>\n",
       "      <td>0.2</td>\n",
       "      <td>0.1</td>\n",
       "      <td>0.7</td>\n",
       "      <td>st=0.2,bd=0.1</td>\n",
       "      <td>0.044178</td>\n",
       "      <td>0.00691</td>\n",
       "      <td>0.083125</td>\n",
       "      <td>-0.501347</td>\n",
       "      <td>0.528048</td>\n",
       "      <td>0.53147</td>\n",
       "      <td>0.091794</td>\n",
       "    </tr>\n",
       "  </tbody>\n",
       "</table>\n",
       "</div>"
      ],
      "text/plain": [
       "   index  stock  bond  corp          index      mean      var       std  \\\n",
       "22    23    0.2   0.1   0.7  st=0.2,bd=0.1  0.044178  0.00691  0.083125   \n",
       "\n",
       "        skew      kurt   sharpe  autocorr  \n",
       "22 -0.501347  0.528048  0.53147  0.091794  "
      ]
     },
     "execution_count": 71,
     "metadata": {},
     "output_type": "execute_result"
    }
   ],
   "source": [
    "max_sharpe = statistics_concatenated[statistics_concatenated['sharpe'] ==statistics_concatenated['sharpe'].max()]\n",
    "max_sharpe"
   ]
  },
  {
   "cell_type": "markdown",
   "metadata": {},
   "source": [
    "# Efficient Frontier"
   ]
  },
  {
   "cell_type": "markdown",
   "metadata": {},
   "source": [
    "## 2-Assets"
   ]
  },
  {
   "cell_type": "code",
   "execution_count": 31,
   "metadata": {
    "ExecuteTime": {
     "end_time": "2020-05-11T20:33:16.114244Z",
     "start_time": "2020-05-11T20:33:16.089097Z"
    }
   },
   "outputs": [
    {
     "data": {
      "text/html": [
       "<div>\n",
       "<style scoped>\n",
       "    .dataframe tbody tr th:only-of-type {\n",
       "        vertical-align: middle;\n",
       "    }\n",
       "\n",
       "    .dataframe tbody tr th {\n",
       "        vertical-align: top;\n",
       "    }\n",
       "\n",
       "    .dataframe thead th {\n",
       "        text-align: right;\n",
       "    }\n",
       "</style>\n",
       "<table border=\"1\" class=\"dataframe\">\n",
       "  <thead>\n",
       "    <tr style=\"text-align: right;\">\n",
       "      <th></th>\n",
       "      <th>weight</th>\n",
       "      <th>covariance</th>\n",
       "      <th>mean_return</th>\n",
       "      <th>stdev</th>\n",
       "    </tr>\n",
       "  </thead>\n",
       "  <tbody>\n",
       "    <tr>\n",
       "      <th>0</th>\n",
       "      <td>0.0</td>\n",
       "      <td>0.1</td>\n",
       "      <td>0.021719</td>\n",
       "      <td>0.081299</td>\n",
       "    </tr>\n",
       "    <tr>\n",
       "      <th>1</th>\n",
       "      <td>0.1</td>\n",
       "      <td>0.1</td>\n",
       "      <td>0.027966</td>\n",
       "      <td>0.077628</td>\n",
       "    </tr>\n",
       "    <tr>\n",
       "      <th>2</th>\n",
       "      <td>0.2</td>\n",
       "      <td>0.1</td>\n",
       "      <td>0.034214</td>\n",
       "      <td>0.079256</td>\n",
       "    </tr>\n",
       "    <tr>\n",
       "      <th>3</th>\n",
       "      <td>0.3</td>\n",
       "      <td>0.1</td>\n",
       "      <td>0.040461</td>\n",
       "      <td>0.085882</td>\n",
       "    </tr>\n",
       "    <tr>\n",
       "      <th>4</th>\n",
       "      <td>0.4</td>\n",
       "      <td>0.1</td>\n",
       "      <td>0.046708</td>\n",
       "      <td>0.096481</td>\n",
       "    </tr>\n",
       "    <tr>\n",
       "      <th>5</th>\n",
       "      <td>0.5</td>\n",
       "      <td>0.1</td>\n",
       "      <td>0.052955</td>\n",
       "      <td>0.109910</td>\n",
       "    </tr>\n",
       "    <tr>\n",
       "      <th>6</th>\n",
       "      <td>0.6</td>\n",
       "      <td>0.1</td>\n",
       "      <td>0.059203</td>\n",
       "      <td>0.125263</td>\n",
       "    </tr>\n",
       "    <tr>\n",
       "      <th>7</th>\n",
       "      <td>0.7</td>\n",
       "      <td>0.1</td>\n",
       "      <td>0.065450</td>\n",
       "      <td>0.141915</td>\n",
       "    </tr>\n",
       "    <tr>\n",
       "      <th>8</th>\n",
       "      <td>0.8</td>\n",
       "      <td>0.1</td>\n",
       "      <td>0.071697</td>\n",
       "      <td>0.159461</td>\n",
       "    </tr>\n",
       "    <tr>\n",
       "      <th>9</th>\n",
       "      <td>0.9</td>\n",
       "      <td>0.1</td>\n",
       "      <td>0.077944</td>\n",
       "      <td>0.177636</td>\n",
       "    </tr>\n",
       "    <tr>\n",
       "      <th>10</th>\n",
       "      <td>1.0</td>\n",
       "      <td>0.1</td>\n",
       "      <td>0.084192</td>\n",
       "      <td>0.196266</td>\n",
       "    </tr>\n",
       "  </tbody>\n",
       "</table>\n",
       "</div>"
      ],
      "text/plain": [
       "    weight  covariance  mean_return     stdev\n",
       "0      0.0         0.1     0.021719  0.081299\n",
       "1      0.1         0.1     0.027966  0.077628\n",
       "2      0.2         0.1     0.034214  0.079256\n",
       "3      0.3         0.1     0.040461  0.085882\n",
       "4      0.4         0.1     0.046708  0.096481\n",
       "5      0.5         0.1     0.052955  0.109910\n",
       "6      0.6         0.1     0.059203  0.125263\n",
       "7      0.7         0.1     0.065450  0.141915\n",
       "8      0.8         0.1     0.071697  0.159461\n",
       "9      0.9         0.1     0.077944  0.177636\n",
       "10     1.0         0.1     0.084192  0.196266"
      ]
     },
     "execution_count": 31,
     "metadata": {},
     "output_type": "execute_result"
    }
   ],
   "source": [
    "def calculate_efficient_frontier(asset1, asset2, weight, covariance):\n",
    "    expect_asset1 = asset1.mean()\n",
    "    sigma_asset1 = asset1.std()\n",
    "\n",
    "    expect_asset2 = asset2.mean()\n",
    "    sigma_asset2 = asset2.std()\n",
    "\n",
    "    output = pd.DataFrame({'weight': weight})\n",
    "    output['covariance'] = covariance\n",
    "    output['weight2'] = 1 - output['weight']\n",
    "    output['mean_return'] = expect_asset1 * output[\n",
    "        'weight'] + expect_asset2 * output['weight2']\n",
    "    output['term_1'] = (output['weight']**2) * (sigma_asset1**2)\n",
    "    output['term_2'] = (output['weight2']**2) * (sigma_asset2**2)\n",
    "    output['term_cov'] = 2 * output['weight'] * output[\n",
    "        'weight2'] * covariance * sigma_asset1 * sigma_asset2\n",
    "    output['stdev'] = np.sqrt(output['term_1'] + output['term_2'] +\n",
    "                              output['term_cov'])\n",
    "\n",
    "    return output[['weight', 'covariance', 'mean_return', 'stdev']]\n",
    "\n",
    "\n",
    "efficient_2asset = calculate_efficient_frontier(real_return['snp'],\n",
    "                                                real_return['t_bond'],\n",
    "                                                percent_array, 0.1)\n",
    "efficient_2asset"
   ]
  },
  {
   "cell_type": "code",
   "execution_count": 32,
   "metadata": {
    "ExecuteTime": {
     "end_time": "2020-05-11T20:33:16.205970Z",
     "start_time": "2020-05-11T20:33:16.117087Z"
    }
   },
   "outputs": [],
   "source": [
    "for i in percent_array:\n",
    "    x_new = calculate_efficient_frontier(real_return['snp'], real_return['t_bond'], percent_array, i)\n",
    "    efficient_2asset.append(x_new, ignore_index=True)"
   ]
  },
  {
   "cell_type": "code",
   "execution_count": 33,
   "metadata": {
    "ExecuteTime": {
     "end_time": "2020-05-11T20:33:18.032696Z",
     "start_time": "2020-05-11T20:33:16.208377Z"
    }
   },
   "outputs": [
    {
     "data": {
      "image/png": "[encoded data removed]",
      "text/plain": [
       "<Figure size 1440x720 with 11 Axes>"
      ]
     },
     "metadata": {
      "needs_background": "light"
     },
     "output_type": "display_data"
    }
   ],
   "source": [
    "fig, axes = plt.subplots(3,4, figsize = (20,10))\n",
    "for i, ax in enumerate(axes.flatten()[:len(percent_array)]):\n",
    "    to_plot = calculate_efficient_frontier(real_return['snp'], real_return['t_bond'], percent_array, i/10)\n",
    "    sns.scatterplot(x=to_plot['stdev'], y=to_plot['mean_return'], ax=ax)\n",
    "    ax.set(ylabel = 'mean return, cov = {}'.format(i/10))\n",
    "fig.delaxes(axes[2,3])"
   ]
  },
  {
   "cell_type": "markdown",
   "metadata": {},
   "source": [
    "##  3-Assets"
   ]
  },
  {
   "cell_type": "code",
   "execution_count": 35,
   "metadata": {
    "ExecuteTime": {
     "end_time": "2020-05-11T20:33:18.063859Z",
     "start_time": "2020-05-11T20:33:18.053012Z"
    }
   },
   "outputs": [
    {
     "data": {
      "text/plain": [
       "[0.1, 0.7, 0.2]"
      ]
     },
     "execution_count": 35,
     "metadata": {},
     "output_type": "execute_result"
    }
   ],
   "source": [
    "weight_3asset = [min_var['stock'].iloc[0], min_var['bond'].iloc[0], min_var['corp'].iloc[0]]\n",
    "weight_3asset"
   ]
  },
  {
   "cell_type": "code",
   "execution_count": 36,
   "metadata": {
    "ExecuteTime": {
     "end_time": "2020-05-11T20:33:18.100453Z",
     "start_time": "2020-05-11T20:33:18.070907Z"
    }
   },
   "outputs": [
    {
     "data": {
      "text/html": [
       "<div>\n",
       "<style scoped>\n",
       "    .dataframe tbody tr th:only-of-type {\n",
       "        vertical-align: middle;\n",
       "    }\n",
       "\n",
       "    .dataframe tbody tr th {\n",
       "        vertical-align: top;\n",
       "    }\n",
       "\n",
       "    .dataframe thead th {\n",
       "        text-align: right;\n",
       "    }\n",
       "</style>\n",
       "<table border=\"1\" class=\"dataframe\">\n",
       "  <thead>\n",
       "    <tr style=\"text-align: right;\">\n",
       "      <th></th>\n",
       "      <th>stock</th>\n",
       "      <th>bond</th>\n",
       "      <th>corp</th>\n",
       "      <th>w1</th>\n",
       "      <th>w2</th>\n",
       "      <th>w3</th>\n",
       "    </tr>\n",
       "  </thead>\n",
       "  <tbody>\n",
       "    <tr>\n",
       "      <th>0</th>\n",
       "      <td>0.0</td>\n",
       "      <td>0.0</td>\n",
       "      <td>1.0</td>\n",
       "      <td>0.00</td>\n",
       "      <td>0.00</td>\n",
       "      <td>0.20</td>\n",
       "    </tr>\n",
       "    <tr>\n",
       "      <th>1</th>\n",
       "      <td>0.0</td>\n",
       "      <td>0.1</td>\n",
       "      <td>0.9</td>\n",
       "      <td>0.00</td>\n",
       "      <td>0.07</td>\n",
       "      <td>0.18</td>\n",
       "    </tr>\n",
       "    <tr>\n",
       "      <th>2</th>\n",
       "      <td>0.0</td>\n",
       "      <td>0.2</td>\n",
       "      <td>0.8</td>\n",
       "      <td>0.00</td>\n",
       "      <td>0.14</td>\n",
       "      <td>0.16</td>\n",
       "    </tr>\n",
       "    <tr>\n",
       "      <th>3</th>\n",
       "      <td>0.0</td>\n",
       "      <td>0.3</td>\n",
       "      <td>0.7</td>\n",
       "      <td>0.00</td>\n",
       "      <td>0.21</td>\n",
       "      <td>0.14</td>\n",
       "    </tr>\n",
       "    <tr>\n",
       "      <th>4</th>\n",
       "      <td>0.0</td>\n",
       "      <td>0.4</td>\n",
       "      <td>0.6</td>\n",
       "      <td>0.00</td>\n",
       "      <td>0.28</td>\n",
       "      <td>0.12</td>\n",
       "    </tr>\n",
       "    <tr>\n",
       "      <th>...</th>\n",
       "      <td>...</td>\n",
       "      <td>...</td>\n",
       "      <td>...</td>\n",
       "      <td>...</td>\n",
       "      <td>...</td>\n",
       "      <td>...</td>\n",
       "    </tr>\n",
       "    <tr>\n",
       "      <th>61</th>\n",
       "      <td>0.8</td>\n",
       "      <td>0.1</td>\n",
       "      <td>0.1</td>\n",
       "      <td>0.08</td>\n",
       "      <td>0.07</td>\n",
       "      <td>0.02</td>\n",
       "    </tr>\n",
       "    <tr>\n",
       "      <th>62</th>\n",
       "      <td>0.8</td>\n",
       "      <td>0.2</td>\n",
       "      <td>0.0</td>\n",
       "      <td>0.08</td>\n",
       "      <td>0.14</td>\n",
       "      <td>0.00</td>\n",
       "    </tr>\n",
       "    <tr>\n",
       "      <th>63</th>\n",
       "      <td>0.9</td>\n",
       "      <td>0.0</td>\n",
       "      <td>0.1</td>\n",
       "      <td>0.09</td>\n",
       "      <td>0.00</td>\n",
       "      <td>0.02</td>\n",
       "    </tr>\n",
       "    <tr>\n",
       "      <th>64</th>\n",
       "      <td>0.9</td>\n",
       "      <td>0.1</td>\n",
       "      <td>0.0</td>\n",
       "      <td>0.09</td>\n",
       "      <td>0.07</td>\n",
       "      <td>0.00</td>\n",
       "    </tr>\n",
       "    <tr>\n",
       "      <th>65</th>\n",
       "      <td>1.0</td>\n",
       "      <td>0.0</td>\n",
       "      <td>0.0</td>\n",
       "      <td>0.10</td>\n",
       "      <td>0.00</td>\n",
       "      <td>0.00</td>\n",
       "    </tr>\n",
       "  </tbody>\n",
       "</table>\n",
       "<p>66 rows × 6 columns</p>\n",
       "</div>"
      ],
      "text/plain": [
       "    stock  bond  corp    w1    w2    w3\n",
       "0     0.0   0.0   1.0  0.00  0.00  0.20\n",
       "1     0.0   0.1   0.9  0.00  0.07  0.18\n",
       "2     0.0   0.2   0.8  0.00  0.14  0.16\n",
       "3     0.0   0.3   0.7  0.00  0.21  0.14\n",
       "4     0.0   0.4   0.6  0.00  0.28  0.12\n",
       "..    ...   ...   ...   ...   ...   ...\n",
       "61    0.8   0.1   0.1  0.08  0.07  0.02\n",
       "62    0.8   0.2   0.0  0.08  0.14  0.00\n",
       "63    0.9   0.0   0.1  0.09  0.00  0.02\n",
       "64    0.9   0.1   0.0  0.09  0.07  0.00\n",
       "65    1.0   0.0   0.0  0.10  0.00  0.00\n",
       "\n",
       "[66 rows x 6 columns]"
      ]
     },
     "execution_count": 36,
     "metadata": {},
     "output_type": "execute_result"
    }
   ],
   "source": [
    "def calc_efficient_front_3assets(asset_df, actual_weight, weight):\n",
    "\n",
    "    asset1 = asset_df.iloc[:, 0]\n",
    "    asset2 = asset_df.iloc[:, 1]\n",
    "    asset3 = asset_df.iloc[:, 2]\n",
    "\n",
    "    exp_ass1 = asset1.mean()\n",
    "    exp_ass2 = asset2.mean()\n",
    "    exp_ass3 = asset3.mean()\n",
    "\n",
    "    sigma_ass1 = asset1.std()\n",
    "    sigma_ass2 = asset2.std()\n",
    "    sigma_ass3 = asset3.std()\n",
    "\n",
    "    cov12 = np.cov(asset1, asset2)\n",
    "    cov13 = np.cov(asset1, asset3)\n",
    "    cov23 = np.cov(asset2, asset3)\n",
    "    \n",
    "    weight['w1'] = weight.iloc[:, 0]*actual_weight[0]\n",
    "    weight['w2'] = weight.iloc[:, 1]*actual_weight[1]\n",
    "    weight['w3'] = weight.iloc[:, 2]*actual_weight[2]\n",
    "\n",
    "    \n",
    "\n",
    "    return weight\n",
    "\n",
    "\n",
    "calc_efficient_front_3assets(real_return[['snp', 't_bond', 'cor_bond']],\n",
    "                             weight_3asset, grid.drop('index', axis=1))"
   ]
  },
  {
   "cell_type": "code",
   "execution_count": 37,
   "metadata": {
    "ExecuteTime": {
     "end_time": "2020-05-11T20:33:18.110083Z",
     "start_time": "2020-05-11T20:33:18.104851Z"
    }
   },
   "outputs": [
    {
     "data": {
      "text/plain": [
       "array([0.1, 0.7, 0.2])"
      ]
     },
     "execution_count": 37,
     "metadata": {},
     "output_type": "execute_result"
    }
   ],
   "source": [
    "weight_3asset\n",
    "weights_array = np.array(weight_3asset)\n",
    "weights_array"
   ]
  },
  {
   "cell_type": "markdown",
   "metadata": {},
   "source": [
    "# PyPortfolioOpt Method"
   ]
  },
  {
   "cell_type": "code",
   "execution_count": 38,
   "metadata": {
    "ExecuteTime": {
     "end_time": "2020-05-11T20:33:18.122895Z",
     "start_time": "2020-05-11T20:33:18.112650Z"
    }
   },
   "outputs": [
    {
     "data": {
      "text/plain": [
       "0.00566"
      ]
     },
     "execution_count": 38,
     "metadata": {},
     "output_type": "execute_result"
    }
   ],
   "source": [
    "port = real_return[['snp', 't_bond', 'cor_bond']]\n",
    "por_cov = port.cov()\n",
    "port_variance = np.dot(weights_array.T, np.dot(por_cov, weight_3asset))\n",
    "round(port_variance, 5)"
   ]
  },
  {
   "cell_type": "code",
   "execution_count": 39,
   "metadata": {
    "ExecuteTime": {
     "end_time": "2020-05-11T20:33:18.131660Z",
     "start_time": "2020-05-11T20:33:18.125216Z"
    }
   },
   "outputs": [
    {
     "data": {
      "text/plain": [
       "snp         0.084192\n",
       "t_bond      0.021719\n",
       "cor_bond    0.042222\n",
       "dtype: float64"
      ]
     },
     "execution_count": 39,
     "metadata": {},
     "output_type": "execute_result"
    }
   ],
   "source": [
    "port.mean()"
   ]
  },
  {
   "cell_type": "code",
   "execution_count": 40,
   "metadata": {
    "ExecuteTime": {
     "end_time": "2020-05-11T20:33:18.139629Z",
     "start_time": "2020-05-11T20:33:18.134050Z"
    }
   },
   "outputs": [
    {
     "data": {
      "text/plain": [
       "0.07522"
      ]
     },
     "execution_count": 40,
     "metadata": {},
     "output_type": "execute_result"
    }
   ],
   "source": [
    "port_volatility = np.sqrt(port_variance)\n",
    "round(port_volatility,5)"
   ]
  },
  {
   "cell_type": "code",
   "execution_count": 41,
   "metadata": {
    "ExecuteTime": {
     "end_time": "2020-05-11T20:33:18.147630Z",
     "start_time": "2020-05-11T20:33:18.141635Z"
    }
   },
   "outputs": [
    {
     "data": {
      "text/plain": [
       "0.032066850962864435"
      ]
     },
     "execution_count": 41,
     "metadata": {},
     "output_type": "execute_result"
    }
   ],
   "source": [
    "# Calculate the anual porfolio return\n",
    "portfolioSimpleAnnRet = np.sum(port.mean()*weights_array)\n",
    "portfolioSimpleAnnRet"
   ]
  },
  {
   "cell_type": "code",
   "execution_count": 42,
   "metadata": {
    "ExecuteTime": {
     "end_time": "2020-05-11T20:33:21.310637Z",
     "start_time": "2020-05-11T20:33:18.149947Z"
    }
   },
   "outputs": [
    {
     "name": "stdout",
     "output_type": "stream",
     "text": [
      "Requirement already satisfied: PyPortfolioOpt in /opt/anaconda3/lib/python3.7/site-packages (1.2.1)\n",
      "Requirement already satisfied: scipy in /opt/anaconda3/lib/python3.7/site-packages (from PyPortfolioOpt) (1.4.1)\n",
      "Requirement already satisfied: numpy in /opt/anaconda3/lib/python3.7/site-packages (from PyPortfolioOpt) (1.17.2)\n",
      "Requirement already satisfied: pandas<0.26.0,>=0.25.3 in /opt/anaconda3/lib/python3.7/site-packages (from PyPortfolioOpt) (0.25.3)\n",
      "Requirement already satisfied: cvxpy<2.0.0,>=1.0.28 in /opt/anaconda3/lib/python3.7/site-packages (from PyPortfolioOpt) (1.0.31)\n",
      "Requirement already satisfied: python-dateutil>=2.6.1 in /opt/anaconda3/lib/python3.7/site-packages (from pandas<0.26.0,>=0.25.3->PyPortfolioOpt) (2.8.0)\n",
      "Requirement already satisfied: pytz>=2017.2 in /opt/anaconda3/lib/python3.7/site-packages (from pandas<0.26.0,>=0.25.3->PyPortfolioOpt) (2019.3)\n",
      "Requirement already satisfied: multiprocess in /opt/anaconda3/lib/python3.7/site-packages (from cvxpy<2.0.0,>=1.0.28->PyPortfolioOpt) (0.70.9)\n",
      "Requirement already satisfied: ecos>=2 in /opt/anaconda3/lib/python3.7/site-packages (from cvxpy<2.0.0,>=1.0.28->PyPortfolioOpt) (2.0.7.post1)\n",
      "Requirement already satisfied: osqp>=0.4.1 in /opt/anaconda3/lib/python3.7/site-packages (from cvxpy<2.0.0,>=1.0.28->PyPortfolioOpt) (0.6.1)\n",
      "Requirement already satisfied: scs>=1.1.3 in /opt/anaconda3/lib/python3.7/site-packages (from cvxpy<2.0.0,>=1.0.28->PyPortfolioOpt) (2.1.2)\n",
      "Requirement already satisfied: six>=1.5 in /opt/anaconda3/lib/python3.7/site-packages (from python-dateutil>=2.6.1->pandas<0.26.0,>=0.25.3->PyPortfolioOpt) (1.12.0)\n",
      "Requirement already satisfied: dill>=0.3.1 in /opt/anaconda3/lib/python3.7/site-packages (from multiprocess->cvxpy<2.0.0,>=1.0.28->PyPortfolioOpt) (0.3.1.1)\n",
      "Requirement already satisfied: future in /opt/anaconda3/lib/python3.7/site-packages (from osqp>=0.4.1->cvxpy<2.0.0,>=1.0.28->PyPortfolioOpt) (0.17.1)\n",
      "\u001b[33mWARNING: You are using pip version 20.0.2; however, version 20.1 is available.\n",
      "You should consider upgrading via the '/opt/anaconda3/bin/python -m pip install --upgrade pip' command.\u001b[0m\n",
      "Note: you may need to restart the kernel to use updated packages.\n"
     ]
    }
   ],
   "source": [
    "pip install PyPortfolioOpt"
   ]
  },
  {
   "cell_type": "code",
   "execution_count": 43,
   "metadata": {
    "ExecuteTime": {
     "end_time": "2020-05-11T20:33:22.670758Z",
     "start_time": "2020-05-11T20:33:21.321473Z"
    }
   },
   "outputs": [],
   "source": [
    "from pypfopt.efficient_frontier import EfficientFrontier\n",
    "from pypfopt import risk_models\n",
    "from pypfopt import expected_returns"
   ]
  },
  {
   "cell_type": "code",
   "execution_count": 44,
   "metadata": {
    "ExecuteTime": {
     "end_time": "2020-05-11T20:33:22.698014Z",
     "start_time": "2020-05-11T20:33:22.674753Z"
    },
    "scrolled": true
   },
   "outputs": [],
   "source": [
    "# Portfolio Optimization\n",
    "# Calculate the expected returns\n",
    "\n",
    "mu = port.mean()\n",
    "S = port.cov()\n",
    "ef = EfficientFrontier(mu, S)\n",
    "weights = ef.max_sharpe()\n",
    "cleaned_weights = ef.clean_weights()"
   ]
  },
  {
   "cell_type": "code",
   "execution_count": 45,
   "metadata": {
    "ExecuteTime": {
     "end_time": "2020-05-11T20:33:22.707104Z",
     "start_time": "2020-05-11T20:33:22.699787Z"
    }
   },
   "outputs": [
    {
     "data": {
      "text/plain": [
       "{'snp': 0.45202, 't_bond': 0.0, 'cor_bond': 0.54798}"
      ]
     },
     "execution_count": 45,
     "metadata": {},
     "output_type": "execute_result"
    }
   ],
   "source": [
    "cleaned_weights"
   ]
  },
  {
   "cell_type": "code",
   "execution_count": 46,
   "metadata": {
    "ExecuteTime": {
     "end_time": "2020-05-11T20:33:22.727949Z",
     "start_time": "2020-05-11T20:33:22.710534Z"
    }
   },
   "outputs": [
    {
     "name": "stdout",
     "output_type": "stream",
     "text": [
      "Expected annual return: 6.1%\n",
      "Annual volatility: 11.7%\n",
      "Sharpe Ratio: 0.35\n"
     ]
    },
    {
     "data": {
      "text/plain": [
       "(0.06119269804153607, 0.11738999129403975, 0.35090468605927516)"
      ]
     },
     "execution_count": 46,
     "metadata": {},
     "output_type": "execute_result"
    }
   ],
   "source": [
    "ef.portfolio_performance(verbose=True)"
   ]
  },
  {
   "cell_type": "markdown",
   "metadata": {
    "ExecuteTime": {
     "end_time": "2020-05-11T05:08:21.241880Z",
     "start_time": "2020-05-11T05:08:21.234933Z"
    }
   },
   "source": [
    "# FinQuest Method\n",
    "\n",
    "source: [source](https://www.youtube.com/watch?v=KDabodOhon8&list=PLLVfjXL2pnkQQXmBMPu_NIst57AKak5Z1&index=11)"
   ]
  },
  {
   "cell_type": "code",
   "execution_count": 47,
   "metadata": {
    "ExecuteTime": {
     "end_time": "2020-05-11T20:33:22.745264Z",
     "start_time": "2020-05-11T20:33:22.730591Z"
    }
   },
   "outputs": [
    {
     "data": {
      "text/html": [
       "<div>\n",
       "<style scoped>\n",
       "    .dataframe tbody tr th:only-of-type {\n",
       "        vertical-align: middle;\n",
       "    }\n",
       "\n",
       "    .dataframe tbody tr th {\n",
       "        vertical-align: top;\n",
       "    }\n",
       "\n",
       "    .dataframe thead th {\n",
       "        text-align: right;\n",
       "    }\n",
       "</style>\n",
       "<table border=\"1\" class=\"dataframe\">\n",
       "  <thead>\n",
       "    <tr style=\"text-align: right;\">\n",
       "      <th></th>\n",
       "      <th>snp</th>\n",
       "      <th>t_bond</th>\n",
       "      <th>cor_bond</th>\n",
       "    </tr>\n",
       "    <tr>\n",
       "      <th>year</th>\n",
       "      <th></th>\n",
       "      <th></th>\n",
       "      <th></th>\n",
       "    </tr>\n",
       "  </thead>\n",
       "  <tbody>\n",
       "    <tr>\n",
       "      <th>1928</th>\n",
       "      <td>0.454842</td>\n",
       "      <td>0.020086</td>\n",
       "      <td>0.044204</td>\n",
       "    </tr>\n",
       "    <tr>\n",
       "      <th>1929</th>\n",
       "      <td>-0.082979</td>\n",
       "      <td>0.042038</td>\n",
       "      <td>0.030179</td>\n",
       "    </tr>\n",
       "    <tr>\n",
       "      <th>1930</th>\n",
       "      <td>-0.230696</td>\n",
       "      <td>0.074087</td>\n",
       "      <td>0.032978</td>\n",
       "    </tr>\n",
       "    <tr>\n",
       "      <th>1931</th>\n",
       "      <td>-0.383305</td>\n",
       "      <td>0.069959</td>\n",
       "      <td>-0.074127</td>\n",
       "    </tr>\n",
       "    <tr>\n",
       "      <th>1932</th>\n",
       "      <td>0.018480</td>\n",
       "      <td>0.212824</td>\n",
       "      <td>0.377810</td>\n",
       "    </tr>\n",
       "  </tbody>\n",
       "</table>\n",
       "</div>"
      ],
      "text/plain": [
       "           snp    t_bond  cor_bond\n",
       "year                              \n",
       "1928  0.454842  0.020086  0.044204\n",
       "1929 -0.082979  0.042038  0.030179\n",
       "1930 -0.230696  0.074087  0.032978\n",
       "1931 -0.383305  0.069959 -0.074127\n",
       "1932  0.018480  0.212824  0.377810"
      ]
     },
     "execution_count": 47,
     "metadata": {},
     "output_type": "execute_result"
    }
   ],
   "source": [
    "port.head()"
   ]
  },
  {
   "cell_type": "code",
   "execution_count": 48,
   "metadata": {
    "ExecuteTime": {
     "end_time": "2020-05-11T20:33:22.761468Z",
     "start_time": "2020-05-11T20:33:22.748067Z"
    }
   },
   "outputs": [
    {
     "data": {
      "text/html": [
       "<div>\n",
       "<style scoped>\n",
       "    .dataframe tbody tr th:only-of-type {\n",
       "        vertical-align: middle;\n",
       "    }\n",
       "\n",
       "    .dataframe tbody tr th {\n",
       "        vertical-align: top;\n",
       "    }\n",
       "\n",
       "    .dataframe thead th {\n",
       "        text-align: right;\n",
       "    }\n",
       "</style>\n",
       "<table border=\"1\" class=\"dataframe\">\n",
       "  <thead>\n",
       "    <tr style=\"text-align: right;\">\n",
       "      <th></th>\n",
       "      <th>snp</th>\n",
       "      <th>t_bond</th>\n",
       "      <th>cor_bond</th>\n",
       "    </tr>\n",
       "  </thead>\n",
       "  <tbody>\n",
       "    <tr>\n",
       "      <th>snp</th>\n",
       "      <td>0.038520</td>\n",
       "      <td>0.000888</td>\n",
       "      <td>0.007414</td>\n",
       "    </tr>\n",
       "    <tr>\n",
       "      <th>t_bond</th>\n",
       "      <td>0.000888</td>\n",
       "      <td>0.006610</td>\n",
       "      <td>0.004698</td>\n",
       "    </tr>\n",
       "    <tr>\n",
       "      <th>cor_bond</th>\n",
       "      <td>0.007414</td>\n",
       "      <td>0.004698</td>\n",
       "      <td>0.007451</td>\n",
       "    </tr>\n",
       "  </tbody>\n",
       "</table>\n",
       "</div>"
      ],
      "text/plain": [
       "               snp    t_bond  cor_bond\n",
       "snp       0.038520  0.000888  0.007414\n",
       "t_bond    0.000888  0.006610  0.004698\n",
       "cor_bond  0.007414  0.004698  0.007451"
      ]
     },
     "execution_count": 48,
     "metadata": {},
     "output_type": "execute_result"
    }
   ],
   "source": [
    "por_cov"
   ]
  },
  {
   "cell_type": "code",
   "execution_count": 49,
   "metadata": {
    "ExecuteTime": {
     "end_time": "2020-05-11T20:33:22.777329Z",
     "start_time": "2020-05-11T20:33:22.772513Z"
    }
   },
   "outputs": [],
   "source": [
    "num_assets = len(port.columns)"
   ]
  },
  {
   "cell_type": "code",
   "execution_count": 50,
   "metadata": {
    "ExecuteTime": {
     "end_time": "2020-05-11T20:33:22.793167Z",
     "start_time": "2020-05-11T20:33:22.782164Z"
    }
   },
   "outputs": [
    {
     "data": {
      "text/plain": [
       "array([0.70371991, 0.26527211, 0.71462638])"
      ]
     },
     "execution_count": 50,
     "metadata": {},
     "output_type": "execute_result"
    }
   ],
   "source": [
    "# Create 3 random values\n",
    "random_values = np.random.random(num_assets);random_values"
   ]
  },
  {
   "cell_type": "code",
   "execution_count": 51,
   "metadata": {
    "ExecuteTime": {
     "end_time": "2020-05-11T20:33:22.800199Z",
     "start_time": "2020-05-11T20:33:22.794967Z"
    }
   },
   "outputs": [
    {
     "data": {
      "text/plain": [
       "array([0.41798065, 0.15756071, 0.42445864])"
      ]
     },
     "execution_count": 51,
     "metadata": {},
     "output_type": "execute_result"
    }
   ],
   "source": [
    "# Normalize values, so they add up to 1\n",
    "random_weights = random_values/np.sum(random_values)\n",
    "random_weights"
   ]
  },
  {
   "cell_type": "code",
   "execution_count": 52,
   "metadata": {
    "ExecuteTime": {
     "end_time": "2020-05-11T20:33:24.559715Z",
     "start_time": "2020-05-11T20:33:22.802423Z"
    }
   },
   "outputs": [
    {
     "data": {
      "text/html": [
       "<div>\n",
       "<style scoped>\n",
       "    .dataframe tbody tr th:only-of-type {\n",
       "        vertical-align: middle;\n",
       "    }\n",
       "\n",
       "    .dataframe tbody tr th {\n",
       "        vertical-align: top;\n",
       "    }\n",
       "\n",
       "    .dataframe thead th {\n",
       "        text-align: right;\n",
       "    }\n",
       "</style>\n",
       "<table border=\"1\" class=\"dataframe\">\n",
       "  <thead>\n",
       "    <tr style=\"text-align: right;\">\n",
       "      <th></th>\n",
       "      <th>snp</th>\n",
       "      <th>t_bond</th>\n",
       "      <th>cor_bond</th>\n",
       "      <th>returns</th>\n",
       "      <th>std/volatility</th>\n",
       "      <th>variance</th>\n",
       "      <th>sharpe</th>\n",
       "    </tr>\n",
       "  </thead>\n",
       "  <tbody>\n",
       "    <tr>\n",
       "      <th>0</th>\n",
       "      <td>0.203528</td>\n",
       "      <td>0.555843</td>\n",
       "      <td>0.240629</td>\n",
       "      <td>0.039368</td>\n",
       "      <td>0.079076</td>\n",
       "      <td>0.006253</td>\n",
       "      <td>0.497844</td>\n",
       "    </tr>\n",
       "    <tr>\n",
       "      <th>1</th>\n",
       "      <td>0.492044</td>\n",
       "      <td>0.349892</td>\n",
       "      <td>0.158064</td>\n",
       "      <td>0.055699</td>\n",
       "      <td>0.110906</td>\n",
       "      <td>0.012300</td>\n",
       "      <td>0.502220</td>\n",
       "    </tr>\n",
       "    <tr>\n",
       "      <th>2</th>\n",
       "      <td>0.125461</td>\n",
       "      <td>0.069868</td>\n",
       "      <td>0.804671</td>\n",
       "      <td>0.046055</td>\n",
       "      <td>0.086623</td>\n",
       "      <td>0.007504</td>\n",
       "      <td>0.531670</td>\n",
       "    </tr>\n",
       "    <tr>\n",
       "      <th>3</th>\n",
       "      <td>0.314552</td>\n",
       "      <td>0.330308</td>\n",
       "      <td>0.355140</td>\n",
       "      <td>0.048651</td>\n",
       "      <td>0.091735</td>\n",
       "      <td>0.008415</td>\n",
       "      <td>0.530346</td>\n",
       "    </tr>\n",
       "    <tr>\n",
       "      <th>4</th>\n",
       "      <td>0.067287</td>\n",
       "      <td>0.279875</td>\n",
       "      <td>0.652838</td>\n",
       "      <td>0.039308</td>\n",
       "      <td>0.079177</td>\n",
       "      <td>0.006269</td>\n",
       "      <td>0.496449</td>\n",
       "    </tr>\n",
       "    <tr>\n",
       "      <th>...</th>\n",
       "      <td>...</td>\n",
       "      <td>...</td>\n",
       "      <td>...</td>\n",
       "      <td>...</td>\n",
       "      <td>...</td>\n",
       "      <td>...</td>\n",
       "      <td>...</td>\n",
       "    </tr>\n",
       "    <tr>\n",
       "      <th>995</th>\n",
       "      <td>0.465947</td>\n",
       "      <td>0.236865</td>\n",
       "      <td>0.297188</td>\n",
       "      <td>0.056921</td>\n",
       "      <td>0.110917</td>\n",
       "      <td>0.012303</td>\n",
       "      <td>0.513186</td>\n",
       "    </tr>\n",
       "    <tr>\n",
       "      <th>996</th>\n",
       "      <td>0.310482</td>\n",
       "      <td>0.226229</td>\n",
       "      <td>0.463290</td>\n",
       "      <td>0.050614</td>\n",
       "      <td>0.094303</td>\n",
       "      <td>0.008893</td>\n",
       "      <td>0.536717</td>\n",
       "    </tr>\n",
       "    <tr>\n",
       "      <th>997</th>\n",
       "      <td>0.192568</td>\n",
       "      <td>0.173740</td>\n",
       "      <td>0.633692</td>\n",
       "      <td>0.046742</td>\n",
       "      <td>0.086736</td>\n",
       "      <td>0.007523</td>\n",
       "      <td>0.538896</td>\n",
       "    </tr>\n",
       "    <tr>\n",
       "      <th>998</th>\n",
       "      <td>0.643656</td>\n",
       "      <td>0.113606</td>\n",
       "      <td>0.242737</td>\n",
       "      <td>0.066907</td>\n",
       "      <td>0.138523</td>\n",
       "      <td>0.019189</td>\n",
       "      <td>0.483000</td>\n",
       "    </tr>\n",
       "    <tr>\n",
       "      <th>999</th>\n",
       "      <td>0.314848</td>\n",
       "      <td>0.225551</td>\n",
       "      <td>0.459601</td>\n",
       "      <td>0.050811</td>\n",
       "      <td>0.094733</td>\n",
       "      <td>0.008974</td>\n",
       "      <td>0.536366</td>\n",
       "    </tr>\n",
       "  </tbody>\n",
       "</table>\n",
       "<p>1000 rows × 7 columns</p>\n",
       "</div>"
      ],
      "text/plain": [
       "          snp    t_bond  cor_bond   returns  std/volatility  variance  \\\n",
       "0    0.203528  0.555843  0.240629  0.039368        0.079076  0.006253   \n",
       "1    0.492044  0.349892  0.158064  0.055699        0.110906  0.012300   \n",
       "2    0.125461  0.069868  0.804671  0.046055        0.086623  0.007504   \n",
       "3    0.314552  0.330308  0.355140  0.048651        0.091735  0.008415   \n",
       "4    0.067287  0.279875  0.652838  0.039308        0.079177  0.006269   \n",
       "..        ...       ...       ...       ...             ...       ...   \n",
       "995  0.465947  0.236865  0.297188  0.056921        0.110917  0.012303   \n",
       "996  0.310482  0.226229  0.463290  0.050614        0.094303  0.008893   \n",
       "997  0.192568  0.173740  0.633692  0.046742        0.086736  0.007523   \n",
       "998  0.643656  0.113606  0.242737  0.066907        0.138523  0.019189   \n",
       "999  0.314848  0.225551  0.459601  0.050811        0.094733  0.008974   \n",
       "\n",
       "       sharpe  \n",
       "0    0.497844  \n",
       "1    0.502220  \n",
       "2    0.531670  \n",
       "3    0.530346  \n",
       "4    0.496449  \n",
       "..        ...  \n",
       "995  0.513186  \n",
       "996  0.536717  \n",
       "997  0.538896  \n",
       "998  0.483000  \n",
       "999  0.536366  \n",
       "\n",
       "[1000 rows x 7 columns]"
      ]
     },
     "execution_count": 52,
     "metadata": {},
     "output_type": "execute_result"
    }
   ],
   "source": [
    "NUM_PORTFOLIO = 1000\n",
    "np.random.seed(69)\n",
    "# Create container list\n",
    "port_ret_list = []\n",
    "port_volatility_list = []\n",
    "port_weights_list = []\n",
    "list_var = []\n",
    "list_sharpe = []\n",
    "list_asset1 = []\n",
    "list_asset2 = []\n",
    "list_asset3 = []\n",
    "\n",
    "for porfolio in range(NUM_PORTFOLIO):\n",
    "    \n",
    "    # Create 3 random values\n",
    "    random_values = np.random.random(num_assets)\n",
    "    \n",
    "    # Normalize values, so they add up to 1\n",
    "    random_weights = random_values/np.sum(random_values)\n",
    "    \n",
    "    # Store weights\n",
    "    list_asset1.append(random_weights[0])\n",
    "    list_asset2.append(random_weights[1])\n",
    "    list_asset3.append(random_weights[2])\n",
    "    \n",
    "    # Calculate Return and store\n",
    "    returns = np.dot(random_weights, mu)\n",
    "    port_ret_list.append(returns)\n",
    "    \n",
    "    # Calculate Variance\n",
    "    # First mul is multiplying the covariance matrix with weights across the rows\n",
    "    # Second mul is multiplying  the covariance matrix with weight across colums\n",
    "    # sum all of this numbers\n",
    "    var = por_cov.mul(random_weights, axis = 0).mul(random_weights, axis = 1).sum().sum()\n",
    "    list_var.append(var)\n",
    "    \n",
    "    std = np.sqrt(var)\n",
    "    port_volatility_list.append(std)\n",
    "    \n",
    "    sharpe = returns/std\n",
    "    list_sharpe.append(sharpe)\n",
    "    \n",
    "fin_method_result = pd.DataFrame({\n",
    "    'snp': list_asset1,\n",
    "    't_bond': list_asset2,\n",
    "    'cor_bond': list_asset3,\n",
    "    'returns': port_ret_list,\n",
    "    'std/volatility': port_volatility_list,\n",
    "    'variance': list_var,\n",
    "    'sharpe': list_sharpe\n",
    "})\n",
    "\n",
    "fin_method_result"
   ]
  },
  {
   "cell_type": "code",
   "execution_count": 53,
   "metadata": {
    "ExecuteTime": {
     "end_time": "2020-05-11T20:33:24.574334Z",
     "start_time": "2020-05-11T20:33:24.570180Z"
    }
   },
   "outputs": [],
   "source": [
    "max_sharpe = fin_method_result['sharpe'].max()\n",
    "min_var = fin_method_result['variance'].min()"
   ]
  },
  {
   "cell_type": "code",
   "execution_count": 62,
   "metadata": {
    "ExecuteTime": {
     "end_time": "2020-05-11T20:41:40.744074Z",
     "start_time": "2020-05-11T20:41:40.733463Z"
    }
   },
   "outputs": [
    {
     "data": {
      "text/html": [
       "<div>\n",
       "<style scoped>\n",
       "    .dataframe tbody tr th:only-of-type {\n",
       "        vertical-align: middle;\n",
       "    }\n",
       "\n",
       "    .dataframe tbody tr th {\n",
       "        vertical-align: top;\n",
       "    }\n",
       "\n",
       "    .dataframe thead th {\n",
       "        text-align: right;\n",
       "    }\n",
       "</style>\n",
       "<table border=\"1\" class=\"dataframe\">\n",
       "  <thead>\n",
       "    <tr style=\"text-align: right;\">\n",
       "      <th></th>\n",
       "      <th>snp</th>\n",
       "      <th>t_bond</th>\n",
       "      <th>cor_bond</th>\n",
       "      <th>returns</th>\n",
       "      <th>std/volatility</th>\n",
       "      <th>variance</th>\n",
       "      <th>sharpe</th>\n",
       "    </tr>\n",
       "  </thead>\n",
       "  <tbody>\n",
       "    <tr>\n",
       "      <th>70</th>\n",
       "      <td>0.239488</td>\n",
       "      <td>0.024586</td>\n",
       "      <td>0.735926</td>\n",
       "      <td>0.051769</td>\n",
       "      <td>0.09509</td>\n",
       "      <td>0.009042</td>\n",
       "      <td>0.544418</td>\n",
       "    </tr>\n",
       "  </tbody>\n",
       "</table>\n",
       "</div>"
      ],
      "text/plain": [
       "         snp    t_bond  cor_bond   returns  std/volatility  variance    sharpe\n",
       "70  0.239488  0.024586  0.735926  0.051769         0.09509  0.009042  0.544418"
      ]
     },
     "execution_count": 62,
     "metadata": {},
     "output_type": "execute_result"
    }
   ],
   "source": [
    "# Max Sharpe\n",
    "fin_method_result[fin_method_result['sharpe'] == max_sharpe]"
   ]
  },
  {
   "cell_type": "code",
   "execution_count": 60,
   "metadata": {
    "ExecuteTime": {
     "end_time": "2020-05-11T20:39:21.881755Z",
     "start_time": "2020-05-11T20:39:21.870703Z"
    }
   },
   "outputs": [
    {
     "data": {
      "text/html": [
       "<div>\n",
       "<style scoped>\n",
       "    .dataframe tbody tr th:only-of-type {\n",
       "        vertical-align: middle;\n",
       "    }\n",
       "\n",
       "    .dataframe tbody tr th {\n",
       "        vertical-align: top;\n",
       "    }\n",
       "\n",
       "    .dataframe thead th {\n",
       "        text-align: right;\n",
       "    }\n",
       "</style>\n",
       "<table border=\"1\" class=\"dataframe\">\n",
       "  <thead>\n",
       "    <tr style=\"text-align: right;\">\n",
       "      <th></th>\n",
       "      <th>snp</th>\n",
       "      <th>t_bond</th>\n",
       "      <th>cor_bond</th>\n",
       "      <th>returns</th>\n",
       "      <th>std/volatility</th>\n",
       "      <th>variance</th>\n",
       "      <th>sharpe</th>\n",
       "    </tr>\n",
       "  </thead>\n",
       "  <tbody>\n",
       "    <tr>\n",
       "      <th>936</th>\n",
       "      <td>0.089878</td>\n",
       "      <td>0.619616</td>\n",
       "      <td>0.290506</td>\n",
       "      <td>0.03329</td>\n",
       "      <td>0.075199</td>\n",
       "      <td>0.005655</td>\n",
       "      <td>0.442694</td>\n",
       "    </tr>\n",
       "  </tbody>\n",
       "</table>\n",
       "</div>"
      ],
      "text/plain": [
       "          snp    t_bond  cor_bond  returns  std/volatility  variance    sharpe\n",
       "936  0.089878  0.619616  0.290506  0.03329        0.075199  0.005655  0.442694"
      ]
     },
     "execution_count": 60,
     "metadata": {},
     "output_type": "execute_result"
    }
   ],
   "source": [
    "# Min Variance\n",
    "fin_method_result[fin_method_result['variance'] == min_var]"
   ]
  },
  {
   "cell_type": "code",
   "execution_count": null,
   "metadata": {},
   "outputs": [],
   "source": [
    "#Plot for efficient frontier\n",
    "#plt.scatter(result_3[\"Standard deviation\"], result_3[\"Mean\"], c=result_3[\"Sharpe ratio\"], cmap='viridis')\n",
    "#plt.colorbar(label='Sharpe Ratio')\n",
    "# plt.figure(figsize=(15,8))\n",
    "# plt.scatter(x= fin_method_result[['std/volatility']], y= portfolios[['snp']])\n",
    "# plt.scatter(0.075171,0.032495,c='red', s=120, label= \"Min. Variance Portfolio\", marker= \"o\",)\n",
    "# plt.scatter(0.093076, 0.050647,c='black', s=120, label= \"Max. Sharpe Ratio\", marker= \"o\",)\n",
    "# plt.xlabel('Standard Deviation', fontsize=18)\n",
    "# plt.ylabel('Return', fontsize=18)\n",
    "# plt.title('Efficient Frontier', fontsize= 18)\n",
    "# plt.legend(loc=2, prop={'size': 16})\n",
    "# plt.show()"
   ]
  },
  {
   "cell_type": "markdown",
   "metadata": {
    "ExecuteTime": {
     "end_time": "2020-08-26T03:42:16.882470Z",
     "start_time": "2020-08-26T03:42:16.858739Z"
    }
   },
   "source": [
    "# Final findings and recommendations"
   ]
  },
  {
   "cell_type": "markdown",
   "metadata": {},
   "source": [
    "## Recommendation on model\n",
    "\n",
    "Model II - FinQuest Method is preferable because it allows  to compare a higher number of portfolio combinations and thus the portfolio can be better optimized. It is also more flexible, as I can input the number of different portfolios we want to calculate and the number of assets in the portfolio.\n"
   ]
  },
  {
   "cell_type": "markdown",
   "metadata": {},
   "source": [
    "## Recommendation on investment portfolio\n",
    "\n",
    "To recommend the investor to build a portfolio with 3 assets (Stock, T- Bond and Corporate Bond) and their allocation done based on the maximum Sharpe ratio using the brute force method with scalability - Stock 23.95%, T Bond 2.46%, Corporate Bond 73.59%. Conversely, if the investor wants a 3-asset portfolio with least risk involved, they can choose the portfolio with 6.6% risk and allocation as follows - Stock 10%, T Bond 70%, Corporate Bond 20%.\n",
    "The best portfolio based on the Sharpe ratio has the least weight on T Bond and maximum weight on Corporate bond because the Corporate bond rewards the investor better. It yields a higher return for the risk involved.\n",
    "Overall, a 3-asset portfolio has higher returns as compared to the 2-asset portfolio. A higher number of assets in a portfolio can help an investor to achieve diversification benefits easily."
   ]
  }
 ],
 "metadata": {
  "kernelspec": {
   "display_name": "Python 3",
   "language": "python",
   "name": "python3"
  },
  "language_info": {
   "codemirror_mode": {
    "name": "ipython",
    "version": 3
   },
   "file_extension": ".py",
   "mimetype": "text/x-python",
   "name": "python",
   "nbconvert_exporter": "python",
   "pygments_lexer": "ipython3",
   "version": "3.7.3"
  },
  "toc": {
   "base_numbering": 1,
   "nav_menu": {},
   "number_sections": true,
   "sideBar": true,
   "skip_h1_title": false,
   "title_cell": "Table of Contents",
   "title_sidebar": "Contents",
   "toc_cell": false,
   "toc_position": {
    "height": "calc(100% - 180px)",
    "left": "10px",
    "top": "150px",
    "width": "237.25543212890625px"
   },
   "toc_section_display": true,
   "toc_window_display": true
  },
  "varInspector": {
   "cols": {
    "lenName": 16,
    "lenType": 16,
    "lenVar": 40
   },
   "kernels_config": {
    "python": {
     "delete_cmd_postfix": "",
     "delete_cmd_prefix": "del ",
     "library": "var_list.py",
     "varRefreshCmd": "print(var_dic_list())"
    },
    "r": {
     "delete_cmd_postfix": ") ",
     "delete_cmd_prefix": "rm(",
     "library": "var_list.r",
     "varRefreshCmd": "cat(var_dic_list()) "
    }
   },
   "position": {
    "height": "503.7364196777344px",
    "left": "675.1739501953125px",
    "right": "20px",
    "top": "54.00000762939453px",
    "width": "556.25px"
   },
   "types_to_exclude": [
    "module",
    "function",
    "builtin_function_or_method",
    "instance",
    "_Feature"
   ],
   "window_display": false
  }
 },
 "nbformat": 4,
 "nbformat_minor": 2
}
